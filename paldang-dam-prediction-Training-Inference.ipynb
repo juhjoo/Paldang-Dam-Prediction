{
  "cells": [
    {
      "cell_type": "code",
      "execution_count": null,
      "metadata": {
        "id": "GvN1r3fK0G6T"
      },
      "outputs": [],
      "source": [
        "# Core\n",
        "import pandas as pd\n",
        "import numpy as np\n",
        "import os\n",
        "import cv2\n",
        "import gc\n",
        "import itertools\n",
        "from PIL import Image\n",
        "import matplotlib.pyplot as plt\n",
        "from tqdm import tqdm\n",
        "from tqdm.notebook import tqdm\n",
        "from datetime import datetime\n",
        "import json,itertools\n",
        "from typing import Optional\n",
        "from glob import glob\n",
        "import warnings\n",
        "from IPython import display as ipd\n",
        "warnings.filterwarnings(\"ignore\")\n",
        "import matplotlib.gridspec as gridspec\n",
        "import matplotlib.patches as mpatches\n",
        "import matplotlib as mpl\n",
        "from matplotlib.patches import Rectangle\n",
        "import seaborn as sns\n",
        "import random\n",
        "from joblib import Parallel, delayed\n",
        "import os, shutil\n",
        "import datetime \n",
        "\n",
        "from lightgbm import LGBMRegressor\n",
        "from xgboost import XGBRegressor\n",
        "import xgboost as xgb\n",
        "import lightgbm as lgb\n",
        "from xgboost import plot_importance\n",
        "\n",
        "# Keras\n",
        "import tensorflow as tf\n",
        "\n",
        "from sklearn.model_selection import KFold, train_test_split\n",
        "from sklearn.metrics import roc_auc_score\n",
        "from sklearn.metrics import mean_squared_error, mean_absolute_error\n",
        "from sklearn.ensemble import RandomForestRegressor\n",
        "\n",
        "# Keras\n",
        "from tensorflow import keras\n",
        "import tensorflow as tf\n",
        "import keras\n",
        "from keras import backend as K\n",
        "from keras.models import Model\n",
        "from tensorflow.keras.layers import LSTM, Flatten, TimeDistributed, Conv1D, Input, Dense, Multiply, Add, Activation, GRU, BatchNormalization\n",
        "from keras.layers.convolutional import Conv2D, Conv2DTranspose\n",
        "from keras.layers.pooling import MaxPooling2D\n",
        "from keras.losses import binary_crossentropy\n",
        "from keras.callbacks import Callback, ModelCheckpoint, EarlyStopping, ReduceLROnPlateau\n",
        "from keras.models import load_model, save_model, Sequential\n",
        "from tensorflow.data import Dataset\n",
        "from tensorflow.keras.initializers import TruncatedNormal\n",
        "from tensorflow.keras.regularizers import l2\n",
        "from tensorflow.keras import optimizers\n",
        "\n",
        "from tensorflow.keras.models import Sequential\n",
        "from tensorflow.keras.layers import Dense, Activation, Conv1D, Flatten,MaxPooling1D,BatchNormalization, Lambda, AveragePooling1D, Dropout, Input\n",
        "from keras.callbacks import EarlyStopping, ModelCheckpoint,ReduceLROnPlateau\n",
        "import tensorflow.keras as keras"
      ]
    },
    {
      "cell_type": "code",
      "execution_count": null,
      "metadata": {
        "colab": {
          "base_uri": "https://localhost:8080/"
        },
        "id": "xHXwbB7G5Mfq",
        "outputId": "cbe1a5d6-8cb0-4bb3-c98c-8b65aaac7f00"
      },
      "outputs": [
        {
          "output_type": "stream",
          "name": "stdout",
          "text": [
            "Looking in indexes: https://pypi.org/simple, https://us-python.pkg.dev/colab-wheels/public/simple/\n",
            "Collecting optuna\n",
            "  Downloading optuna-3.0.0-py3-none-any.whl (348 kB)\n",
            "\u001b[K     |████████████████████████████████| 348 kB 14.9 MB/s \n",
            "\u001b[?25hCollecting colorlog\n",
            "  Downloading colorlog-6.7.0-py2.py3-none-any.whl (11 kB)\n",
            "Requirement already satisfied: sqlalchemy>=1.1.0 in /usr/local/lib/python3.7/dist-packages (from optuna) (1.4.40)\n",
            "Requirement already satisfied: typing-extensions>=3.10.0.0 in /usr/local/lib/python3.7/dist-packages (from optuna) (4.1.1)\n",
            "Requirement already satisfied: packaging>=20.0 in /usr/local/lib/python3.7/dist-packages (from optuna) (21.3)\n",
            "Collecting alembic\n",
            "  Downloading alembic-1.8.1-py3-none-any.whl (209 kB)\n",
            "\u001b[K     |████████████████████████████████| 209 kB 79.6 MB/s \n",
            "\u001b[?25hRequirement already satisfied: numpy in /usr/local/lib/python3.7/dist-packages (from optuna) (1.21.6)\n",
            "Requirement already satisfied: tqdm in /usr/local/lib/python3.7/dist-packages (from optuna) (4.64.0)\n",
            "Collecting cliff\n",
            "  Downloading cliff-3.10.1-py3-none-any.whl (81 kB)\n",
            "\u001b[K     |████████████████████████████████| 81 kB 10.5 MB/s \n",
            "\u001b[?25hCollecting cmaes>=0.8.2\n",
            "  Downloading cmaes-0.8.2-py3-none-any.whl (15 kB)\n",
            "Requirement already satisfied: PyYAML in /usr/local/lib/python3.7/dist-packages (from optuna) (6.0)\n",
            "Requirement already satisfied: scipy<1.9.0,>=1.7.0 in /usr/local/lib/python3.7/dist-packages (from optuna) (1.7.3)\n",
            "Requirement already satisfied: pyparsing!=3.0.5,>=2.0.2 in /usr/local/lib/python3.7/dist-packages (from packaging>=20.0->optuna) (3.0.9)\n",
            "Requirement already satisfied: importlib-metadata in /usr/local/lib/python3.7/dist-packages (from sqlalchemy>=1.1.0->optuna) (4.12.0)\n",
            "Requirement already satisfied: greenlet!=0.4.17 in /usr/local/lib/python3.7/dist-packages (from sqlalchemy>=1.1.0->optuna) (1.1.3)\n",
            "Requirement already satisfied: importlib-resources in /usr/local/lib/python3.7/dist-packages (from alembic->optuna) (5.9.0)\n",
            "Collecting Mako\n",
            "  Downloading Mako-1.2.2-py3-none-any.whl (78 kB)\n",
            "\u001b[K     |████████████████████████████████| 78 kB 8.6 MB/s \n",
            "\u001b[?25hCollecting cmd2>=1.0.0\n",
            "  Downloading cmd2-2.4.2-py3-none-any.whl (147 kB)\n",
            "\u001b[K     |████████████████████████████████| 147 kB 75.0 MB/s \n",
            "\u001b[?25hCollecting pbr!=2.1.0,>=2.0.0\n",
            "  Downloading pbr-5.10.0-py2.py3-none-any.whl (112 kB)\n",
            "\u001b[K     |████████████████████████████████| 112 kB 46.9 MB/s \n",
            "\u001b[?25hRequirement already satisfied: PrettyTable>=0.7.2 in /usr/local/lib/python3.7/dist-packages (from cliff->optuna) (3.4.0)\n",
            "Collecting stevedore>=2.0.1\n",
            "  Downloading stevedore-3.5.0-py3-none-any.whl (49 kB)\n",
            "\u001b[K     |████████████████████████████████| 49 kB 4.1 MB/s \n",
            "\u001b[?25hCollecting autopage>=0.4.0\n",
            "  Downloading autopage-0.5.1-py3-none-any.whl (29 kB)\n",
            "Requirement already satisfied: attrs>=16.3.0 in /usr/local/lib/python3.7/dist-packages (from cmd2>=1.0.0->cliff->optuna) (22.1.0)\n",
            "Requirement already satisfied: wcwidth>=0.1.7 in /usr/local/lib/python3.7/dist-packages (from cmd2>=1.0.0->cliff->optuna) (0.2.5)\n",
            "Collecting pyperclip>=1.6\n",
            "  Downloading pyperclip-1.8.2.tar.gz (20 kB)\n",
            "Requirement already satisfied: zipp>=0.5 in /usr/local/lib/python3.7/dist-packages (from importlib-metadata->sqlalchemy>=1.1.0->optuna) (3.8.1)\n",
            "Requirement already satisfied: MarkupSafe>=0.9.2 in /usr/local/lib/python3.7/dist-packages (from Mako->alembic->optuna) (2.0.1)\n",
            "Building wheels for collected packages: pyperclip\n",
            "  Building wheel for pyperclip (setup.py) ... \u001b[?25l\u001b[?25hdone\n",
            "  Created wheel for pyperclip: filename=pyperclip-1.8.2-py3-none-any.whl size=11137 sha256=63d36537015c10407beaec9c80131f929e22227a2252e60c0b4ba4b3d9f3d270\n",
            "  Stored in directory: /root/.cache/pip/wheels/9f/18/84/8f69f8b08169c7bae2dde6bd7daf0c19fca8c8e500ee620a28\n",
            "Successfully built pyperclip\n",
            "Installing collected packages: pyperclip, pbr, stevedore, Mako, cmd2, autopage, colorlog, cmaes, cliff, alembic, optuna\n",
            "Successfully installed Mako-1.2.2 alembic-1.8.1 autopage-0.5.1 cliff-3.10.1 cmaes-0.8.2 cmd2-2.4.2 colorlog-6.7.0 optuna-3.0.0 pbr-5.10.0 pyperclip-1.8.2 stevedore-3.5.0\n"
          ]
        }
      ],
      "source": [
        "!pip install optuna"
      ]
    },
    {
      "cell_type": "code",
      "execution_count": null,
      "metadata": {
        "id": "SVzLAlEk5OJC"
      },
      "outputs": [],
      "source": [
        "import optuna"
      ]
    },
    {
      "cell_type": "code",
      "execution_count": null,
      "metadata": {
        "colab": {
          "base_uri": "https://localhost:8080/"
        },
        "id": "oRQA_T_k0Np3",
        "outputId": "04cbc9d0-3a21-4bfe-db4f-db05f3e8ccc6"
      },
      "outputs": [
        {
          "output_type": "stream",
          "name": "stdout",
          "text": [
            "Mounted at /content/gdrive/\n"
          ]
        }
      ],
      "source": [
        "from google.colab import drive \n",
        "drive.mount('/content/gdrive/')"
      ]
    },
    {
      "cell_type": "code",
      "execution_count": null,
      "metadata": {
        "colab": {
          "base_uri": "https://localhost:8080/"
        },
        "id": "SdC9uoDF0O1L",
        "outputId": "5f7d5bf9-66ad-490d-f448-540442a5a0f9"
      },
      "outputs": [
        {
          "output_type": "stream",
          "name": "stdout",
          "text": [
            "/content/gdrive/MyDrive/data\n"
          ]
        }
      ],
      "source": [
        "%cd /content/gdrive/MyDrive/data"
      ]
    },
    {
      "cell_type": "code",
      "execution_count": null,
      "metadata": {
        "colab": {
          "base_uri": "https://localhost:8080/"
        },
        "id": "0y6_rthL0Ijf",
        "outputId": "4d1bb71b-857b-4527-ea1f-4bd6fb5bf24d"
      },
      "outputs": [
        {
          "output_type": "stream",
          "name": "stdout",
          "text": [
            "seeding done\n"
          ]
        }
      ],
      "source": [
        "seeds=101\n",
        "\n",
        "def seeding(SEED):\n",
        "    \"\"\"\n",
        "    Sets all random seeds for the program (Python, NumPy, and TensorFlow).\n",
        "    \"\"\"\n",
        "    np.random.seed(SEED)\n",
        "    random.seed(SEED)\n",
        "    os.environ[\"PYTHONHASHSEED\"] = str(SEED)\n",
        "    os.environ[\"TF_CUDNN_DETERMINISTIC\"] = str(SEED)\n",
        "    tf.random.set_seed(SEED)\n",
        "    print(\"seeding done\")\n",
        "\n",
        "\n",
        "seeding(seeds)"
      ]
    },
    {
      "cell_type": "code",
      "source": [
        "DATASET_DIR = \"paldang/\""
      ],
      "metadata": {
        "id": "BK3kuXf2q7Vn"
      },
      "execution_count": null,
      "outputs": []
    },
    {
      "cell_type": "code",
      "execution_count": null,
      "metadata": {
        "id": "vTZJhsdR0ToP"
      },
      "outputs": [],
      "source": [
        "train_df = pd.read_csv(DATASET_DIR + 'train_data.csv')\n",
        "test_df = pd.read_csv(DATASET_DIR + 'test_data.csv')"
      ]
    },
    {
      "cell_type": "code",
      "execution_count": null,
      "metadata": {
        "colab": {
          "base_uri": "https://localhost:8080/"
        },
        "id": "5djpQyHvDbjV",
        "outputId": "09a11feb-b431-4696-f2bb-f16d650e00a9"
      },
      "outputs": [
        {
          "output_type": "stream",
          "name": "stdout",
          "text": [
            "<class 'pandas.core.frame.DataFrame'>\n",
            "RangeIndex: 263520 entries, 0 to 263519\n",
            "Data columns (total 77 columns):\n",
            " #   Column                 Non-Null Count   Dtype  \n",
            "---  ------                 --------------   -----  \n",
            " 0   Unnamed: 0             263520 non-null  int64  \n",
            " 1   ymdhm                  263520 non-null  object \n",
            " 2   swl                    263520 non-null  float64\n",
            " 3   inf                    263520 non-null  float64\n",
            " 4   sfw                    263520 non-null  float64\n",
            " 5   ecpc                   263520 non-null  float64\n",
            " 6   tototf                 263520 non-null  float64\n",
            " 7   tide_level             263520 non-null  float64\n",
            " 8   wl_1018662             263520 non-null  float64\n",
            " 9   fw_1018662             263520 non-null  float64\n",
            " 10  wl_1018680             263520 non-null  float64\n",
            " 11  fw_1018680             263520 non-null  float64\n",
            " 12  wl_1018683             263520 non-null  float64\n",
            " 13  fw_1018683             263520 non-null  float64\n",
            " 14  wl_1019630             263520 non-null  float64\n",
            " 15  fw_1019630             263520 non-null  float64\n",
            " 16  tototf_shifted24       263520 non-null  float64\n",
            " 17  tototf_shifted30       263520 non-null  float64\n",
            " 18  tototf_shifted36       263520 non-null  float64\n",
            " 19  inf_shifted36          263520 non-null  float64\n",
            " 20  inf_shifted48          263520 non-null  float64\n",
            " 21  inf_shifted60          263520 non-null  float64\n",
            " 22  tide_shifted6          263520 non-null  float64\n",
            " 23  tide_shifted12         263520 non-null  float64\n",
            " 24  tide_shifted18         263520 non-null  float64\n",
            " 25  fw_1018662_diff        263520 non-null  float64\n",
            " 26  fw_1018680_diff        263520 non-null  float64\n",
            " 27  fw_1018683_diff        263520 non-null  float64\n",
            " 28  fw_1019630_diff        263520 non-null  float64\n",
            " 29  swl_diff               263520 non-null  float64\n",
            " 30  tide_level_diff        263520 non-null  float64\n",
            " 31  tototf_diff            263520 non-null  float64\n",
            " 32  fw_1018662_diff2       263520 non-null  float64\n",
            " 33  fw_1018680_diff2       263520 non-null  float64\n",
            " 34  fw_1018683_diff2       263520 non-null  float64\n",
            " 35  fw_1019630_diff2       263520 non-null  float64\n",
            " 36  swl_diff2              263520 non-null  float64\n",
            " 37  tide_level_diff2       263520 non-null  float64\n",
            " 38  tototf_diff2           263520 non-null  float64\n",
            " 39  fw_1018662_diff3       263520 non-null  float64\n",
            " 40  fw_1018680_diff3       263520 non-null  float64\n",
            " 41  fw_1018683_diff3       263520 non-null  float64\n",
            " 42  fw_1019630_diff3       263520 non-null  float64\n",
            " 43  swl_diff3              263520 non-null  float64\n",
            " 44  tide_level_diff3       263520 non-null  float64\n",
            " 45  tototf_diff3           263520 non-null  float64\n",
            " 46  rf_10184100            263520 non-null  float64\n",
            " 47  rf_10184110            263520 non-null  float64\n",
            " 48  rf_10184140            263520 non-null  float64\n",
            " 49  dayofyear              263520 non-null  int64  \n",
            " 50  weekday                263520 non-null  int64  \n",
            " 51  date                   263520 non-null  object \n",
            " 52  hour                   263520 non-null  int64  \n",
            " 53  hour_te                263520 non-null  float64\n",
            " 54  hour_te1               263520 non-null  float64\n",
            " 55  year                   263520 non-null  int64  \n",
            " 56  month                  263520 non-null  int64  \n",
            " 57  day                    263520 non-null  int64  \n",
            " 58  PrecipitationProb      263520 non-null  float64\n",
            " 59  PrecipitationForm      263520 non-null  float64\n",
            " 60  rf_10184100_month_sum  263520 non-null  float64\n",
            " 61  rf_10184110_month_sum  263520 non-null  float64\n",
            " 62  rf_10184140_month_sum  263520 non-null  float64\n",
            " 63  rf_10184100_day_sum    263520 non-null  float64\n",
            " 64  rf_10184110_day_sum    263520 non-null  float64\n",
            " 65  rf_10184140_day_sum    263520 non-null  float64\n",
            " 66  inf_day_mean           263520 non-null  float64\n",
            " 67  tototf_day_mean        263520 non-null  float64\n",
            " 68  tototf_hour_mean       263520 non-null  float64\n",
            " 69  inf_hour_mean          263520 non-null  float64\n",
            " 70  fw_1018662_hour_mean   263520 non-null  float64\n",
            " 71  fw_1018680_hour_mean   263520 non-null  float64\n",
            " 72  fw_1018683_hour_mean   263520 non-null  float64\n",
            " 73  fw_1019630_hour_mean   263520 non-null  float64\n",
            " 74  meas_fw_avg            263520 non-null  float64\n",
            " 75  meas_fw_std            263520 non-null  float64\n",
            " 76  tototf/meas_fw_avg     263520 non-null  float64\n",
            "dtypes: float64(68), int64(7), object(2)\n",
            "memory usage: 154.8+ MB\n"
          ]
        }
      ],
      "source": [
        "train_df.info()"
      ]
    },
    {
      "cell_type": "code",
      "execution_count": null,
      "metadata": {
        "id": "wcgakKRY0kPV"
      },
      "outputs": [],
      "source": [
        "#feature = ['year','month','day', 'weekday', 'hour_te', 'hour_te1', 'swl', 'inf', 'sfw', 'ecpc', 'tototf', 'tide_level', 'fw_1018662', 'fw_1018683', 'fw_1019630', 'inf_day_mean', 'tototf_day_mean', 'tototf_shifted24', 'tototf_shifted30', 'tototf_shifted36', 'rf_10184100_month_sum', 'rf_10184110_month_sum', 'rf_10184140_month_sum', 'fw_1018662_hour_mean', 'fw_1018680_hour_mean', 'fw_1018683_hour_mean', 'fw_1019630_hour_mean', 'inf_hour_mean', 'inf_shifted36', 'inf_shifted48', 'inf_shifted60', 'fw_1018662_diff', 'fw_1018683_diff', 'fw_1019630_diff', 'swl_diff', 'wl_1018662', 'wl_1018680', 'wl_1018683', 'wl_1019630']\n",
        "#features = ['year','month','day', 'weekday', 'hour_te', 'hour_te1', 'swl', 'inf', 'sfw', 'ecpc', 'tototf', 'tide_level', 'fw_1018662', 'fw_1018683', 'fw_1019630', 'inf_day_mean', 'tototf_day_mean', 'tototf_shifted24', 'tototf_shifted30', 'tototf_shifted36', 'rf_10184100_month_sum', 'rf_10184110_month_sum', 'rf_10184140_month_sum', 'fw_1018662_hour_mean', 'fw_1018680_hour_mean', 'fw_1018683_hour_mean', 'fw_1019630_hour_mean', 'inf_hour_mean', 'inf_shifted36', 'inf_shifted48', 'inf_shifted60', 'fw_1018662_diff', 'fw_1018683_diff', 'fw_1019630_diff', 'swl_diff']\n",
        "feature = ['year','month','day', 'weekday', 'hour_te', 'hour_te1', 'swl', 'inf', 'sfw', 'ecpc', 'tototf', 'tide_level', 'fw_1018662', 'fw_1018683',  'fw_1019630', 'inf_day_mean', 'tototf_day_mean', 'tototf_shifted24', 'tototf_shifted30', 'tototf_shifted36', 'rf_10184100_month_sum', 'rf_10184110_month_sum', 'rf_10184140_month_sum', 'fw_1018662_hour_mean', 'fw_1018683_hour_mean', 'fw_1019630_hour_mean', 'inf_hour_mean', 'inf_shifted36', 'inf_shifted48', 'inf_shifted60', 'fw_1018662_diff', 'fw_1018683_diff', 'fw_1019630_diff', 'swl_diff', 'wl_1018662', 'wl_1018680', 'wl_1018683', 'wl_1019630']\n",
        "features = ['year','month','day', 'weekday', 'hour_te', 'hour_te1', 'swl', 'inf', 'sfw', 'ecpc', 'tototf', 'tide_level', 'fw_1018662', 'fw_1018683', 'fw_1019630', 'inf_day_mean', 'tototf_day_mean', 'tototf_shifted24', 'tototf_shifted30', 'tototf_shifted36', 'rf_10184100_month_sum', 'rf_10184110_month_sum', 'rf_10184140_month_sum', 'fw_1018662_hour_mean', 'fw_1018683_hour_mean', 'fw_1019630_hour_mean', 'inf_hour_mean', 'inf_shifted36', 'inf_shifted48', 'inf_shifted60', 'fw_1018662_diff', 'fw_1018683_diff', 'fw_1019630_diff', 'swl_diff']\n",
        "target =  [\"wl_1018662\", \"wl_1018680\", \"wl_1018683\", \"wl_1019630\"]\n",
        "test_df = test_df[feature]\n",
        "train_df = train_df[feature]"
      ]
    },
    {
      "cell_type": "code",
      "execution_count": null,
      "metadata": {
        "colab": {
          "base_uri": "https://localhost:8080/",
          "height": 300
        },
        "id": "dwbi3rD1nkXI",
        "outputId": "fb30c7f7-4e7c-4aa8-d301-cfdada1380ac"
      },
      "outputs": [
        {
          "output_type": "execute_result",
          "data": {
            "text/plain": [
              "   year  month  day  weekday  hour_te  hour_te1     swl    inf     sfw   ecpc  \\\n",
              "0  2012      5    2        2      0.0       1.0  24.790  408.0  218.73  25.27   \n",
              "1  2012      5    2        2      0.0       1.0  24.803  267.6  219.19  24.81   \n",
              "2  2012      5    2        2      0.0       1.0  24.805  266.4  219.23  24.77   \n",
              "3  2012      5    2        2      0.0       1.0  24.800  265.9  219.07  24.93   \n",
              "4  2012      5    2        2      0.0       1.0  24.808  363.6  219.36  24.64   \n",
              "\n",
              "   ...  inf_shifted48  inf_shifted60  fw_1018662_diff  fw_1018683_diff  \\\n",
              "0  ...          504.0          407.0             6.76           -13.39   \n",
              "1  ...          511.5          518.3             0.00            16.74   \n",
              "2  ...          511.5          616.4             6.71             8.37   \n",
              "3  ...          511.5          518.3             0.00            55.84   \n",
              "4  ...          511.5          616.3             0.00           -16.72   \n",
              "\n",
              "   fw_1019630_diff  swl_diff  wl_1018662  wl_1018680  wl_1018683  wl_1019630  \n",
              "0              0.0    -0.001       303.7       295.2       285.0       271.3  \n",
              "1              0.0    -0.013       303.7       295.2       285.0       271.3  \n",
              "2              0.0    -0.002       302.7       294.2       285.0       271.3  \n",
              "3              0.0     0.005       302.7       294.2       284.0       271.3  \n",
              "4              0.0    -0.008       302.7       293.2       284.0       271.3  \n",
              "\n",
              "[5 rows x 38 columns]"
            ],
            "text/html": [
              "\n",
              "  <div id=\"df-e3a4f13b-71f7-4943-9ab8-a37ea674f656\">\n",
              "    <div class=\"colab-df-container\">\n",
              "      <div>\n",
              "<style scoped>\n",
              "    .dataframe tbody tr th:only-of-type {\n",
              "        vertical-align: middle;\n",
              "    }\n",
              "\n",
              "    .dataframe tbody tr th {\n",
              "        vertical-align: top;\n",
              "    }\n",
              "\n",
              "    .dataframe thead th {\n",
              "        text-align: right;\n",
              "    }\n",
              "</style>\n",
              "<table border=\"1\" class=\"dataframe\">\n",
              "  <thead>\n",
              "    <tr style=\"text-align: right;\">\n",
              "      <th></th>\n",
              "      <th>year</th>\n",
              "      <th>month</th>\n",
              "      <th>day</th>\n",
              "      <th>weekday</th>\n",
              "      <th>hour_te</th>\n",
              "      <th>hour_te1</th>\n",
              "      <th>swl</th>\n",
              "      <th>inf</th>\n",
              "      <th>sfw</th>\n",
              "      <th>ecpc</th>\n",
              "      <th>...</th>\n",
              "      <th>inf_shifted48</th>\n",
              "      <th>inf_shifted60</th>\n",
              "      <th>fw_1018662_diff</th>\n",
              "      <th>fw_1018683_diff</th>\n",
              "      <th>fw_1019630_diff</th>\n",
              "      <th>swl_diff</th>\n",
              "      <th>wl_1018662</th>\n",
              "      <th>wl_1018680</th>\n",
              "      <th>wl_1018683</th>\n",
              "      <th>wl_1019630</th>\n",
              "    </tr>\n",
              "  </thead>\n",
              "  <tbody>\n",
              "    <tr>\n",
              "      <th>0</th>\n",
              "      <td>2012</td>\n",
              "      <td>5</td>\n",
              "      <td>2</td>\n",
              "      <td>2</td>\n",
              "      <td>0.0</td>\n",
              "      <td>1.0</td>\n",
              "      <td>24.790</td>\n",
              "      <td>408.0</td>\n",
              "      <td>218.73</td>\n",
              "      <td>25.27</td>\n",
              "      <td>...</td>\n",
              "      <td>504.0</td>\n",
              "      <td>407.0</td>\n",
              "      <td>6.76</td>\n",
              "      <td>-13.39</td>\n",
              "      <td>0.0</td>\n",
              "      <td>-0.001</td>\n",
              "      <td>303.7</td>\n",
              "      <td>295.2</td>\n",
              "      <td>285.0</td>\n",
              "      <td>271.3</td>\n",
              "    </tr>\n",
              "    <tr>\n",
              "      <th>1</th>\n",
              "      <td>2012</td>\n",
              "      <td>5</td>\n",
              "      <td>2</td>\n",
              "      <td>2</td>\n",
              "      <td>0.0</td>\n",
              "      <td>1.0</td>\n",
              "      <td>24.803</td>\n",
              "      <td>267.6</td>\n",
              "      <td>219.19</td>\n",
              "      <td>24.81</td>\n",
              "      <td>...</td>\n",
              "      <td>511.5</td>\n",
              "      <td>518.3</td>\n",
              "      <td>0.00</td>\n",
              "      <td>16.74</td>\n",
              "      <td>0.0</td>\n",
              "      <td>-0.013</td>\n",
              "      <td>303.7</td>\n",
              "      <td>295.2</td>\n",
              "      <td>285.0</td>\n",
              "      <td>271.3</td>\n",
              "    </tr>\n",
              "    <tr>\n",
              "      <th>2</th>\n",
              "      <td>2012</td>\n",
              "      <td>5</td>\n",
              "      <td>2</td>\n",
              "      <td>2</td>\n",
              "      <td>0.0</td>\n",
              "      <td>1.0</td>\n",
              "      <td>24.805</td>\n",
              "      <td>266.4</td>\n",
              "      <td>219.23</td>\n",
              "      <td>24.77</td>\n",
              "      <td>...</td>\n",
              "      <td>511.5</td>\n",
              "      <td>616.4</td>\n",
              "      <td>6.71</td>\n",
              "      <td>8.37</td>\n",
              "      <td>0.0</td>\n",
              "      <td>-0.002</td>\n",
              "      <td>302.7</td>\n",
              "      <td>294.2</td>\n",
              "      <td>285.0</td>\n",
              "      <td>271.3</td>\n",
              "    </tr>\n",
              "    <tr>\n",
              "      <th>3</th>\n",
              "      <td>2012</td>\n",
              "      <td>5</td>\n",
              "      <td>2</td>\n",
              "      <td>2</td>\n",
              "      <td>0.0</td>\n",
              "      <td>1.0</td>\n",
              "      <td>24.800</td>\n",
              "      <td>265.9</td>\n",
              "      <td>219.07</td>\n",
              "      <td>24.93</td>\n",
              "      <td>...</td>\n",
              "      <td>511.5</td>\n",
              "      <td>518.3</td>\n",
              "      <td>0.00</td>\n",
              "      <td>55.84</td>\n",
              "      <td>0.0</td>\n",
              "      <td>0.005</td>\n",
              "      <td>302.7</td>\n",
              "      <td>294.2</td>\n",
              "      <td>284.0</td>\n",
              "      <td>271.3</td>\n",
              "    </tr>\n",
              "    <tr>\n",
              "      <th>4</th>\n",
              "      <td>2012</td>\n",
              "      <td>5</td>\n",
              "      <td>2</td>\n",
              "      <td>2</td>\n",
              "      <td>0.0</td>\n",
              "      <td>1.0</td>\n",
              "      <td>24.808</td>\n",
              "      <td>363.6</td>\n",
              "      <td>219.36</td>\n",
              "      <td>24.64</td>\n",
              "      <td>...</td>\n",
              "      <td>511.5</td>\n",
              "      <td>616.3</td>\n",
              "      <td>0.00</td>\n",
              "      <td>-16.72</td>\n",
              "      <td>0.0</td>\n",
              "      <td>-0.008</td>\n",
              "      <td>302.7</td>\n",
              "      <td>293.2</td>\n",
              "      <td>284.0</td>\n",
              "      <td>271.3</td>\n",
              "    </tr>\n",
              "  </tbody>\n",
              "</table>\n",
              "<p>5 rows × 38 columns</p>\n",
              "</div>\n",
              "      <button class=\"colab-df-convert\" onclick=\"convertToInteractive('df-e3a4f13b-71f7-4943-9ab8-a37ea674f656')\"\n",
              "              title=\"Convert this dataframe to an interactive table.\"\n",
              "              style=\"display:none;\">\n",
              "        \n",
              "  <svg xmlns=\"http://www.w3.org/2000/svg\" height=\"24px\"viewBox=\"0 0 24 24\"\n",
              "       width=\"24px\">\n",
              "    <path d=\"M0 0h24v24H0V0z\" fill=\"none\"/>\n",
              "    <path d=\"M18.56 5.44l.94 2.06.94-2.06 2.06-.94-2.06-.94-.94-2.06-.94 2.06-2.06.94zm-11 1L8.5 8.5l.94-2.06 2.06-.94-2.06-.94L8.5 2.5l-.94 2.06-2.06.94zm10 10l.94 2.06.94-2.06 2.06-.94-2.06-.94-.94-2.06-.94 2.06-2.06.94z\"/><path d=\"M17.41 7.96l-1.37-1.37c-.4-.4-.92-.59-1.43-.59-.52 0-1.04.2-1.43.59L10.3 9.45l-7.72 7.72c-.78.78-.78 2.05 0 2.83L4 21.41c.39.39.9.59 1.41.59.51 0 1.02-.2 1.41-.59l7.78-7.78 2.81-2.81c.8-.78.8-2.07 0-2.86zM5.41 20L4 18.59l7.72-7.72 1.47 1.35L5.41 20z\"/>\n",
              "  </svg>\n",
              "      </button>\n",
              "      \n",
              "  <style>\n",
              "    .colab-df-container {\n",
              "      display:flex;\n",
              "      flex-wrap:wrap;\n",
              "      gap: 12px;\n",
              "    }\n",
              "\n",
              "    .colab-df-convert {\n",
              "      background-color: #E8F0FE;\n",
              "      border: none;\n",
              "      border-radius: 50%;\n",
              "      cursor: pointer;\n",
              "      display: none;\n",
              "      fill: #1967D2;\n",
              "      height: 32px;\n",
              "      padding: 0 0 0 0;\n",
              "      width: 32px;\n",
              "    }\n",
              "\n",
              "    .colab-df-convert:hover {\n",
              "      background-color: #E2EBFA;\n",
              "      box-shadow: 0px 1px 2px rgba(60, 64, 67, 0.3), 0px 1px 3px 1px rgba(60, 64, 67, 0.15);\n",
              "      fill: #174EA6;\n",
              "    }\n",
              "\n",
              "    [theme=dark] .colab-df-convert {\n",
              "      background-color: #3B4455;\n",
              "      fill: #D2E3FC;\n",
              "    }\n",
              "\n",
              "    [theme=dark] .colab-df-convert:hover {\n",
              "      background-color: #434B5C;\n",
              "      box-shadow: 0px 1px 3px 1px rgba(0, 0, 0, 0.15);\n",
              "      filter: drop-shadow(0px 1px 2px rgba(0, 0, 0, 0.3));\n",
              "      fill: #FFFFFF;\n",
              "    }\n",
              "  </style>\n",
              "\n",
              "      <script>\n",
              "        const buttonEl =\n",
              "          document.querySelector('#df-e3a4f13b-71f7-4943-9ab8-a37ea674f656 button.colab-df-convert');\n",
              "        buttonEl.style.display =\n",
              "          google.colab.kernel.accessAllowed ? 'block' : 'none';\n",
              "\n",
              "        async function convertToInteractive(key) {\n",
              "          const element = document.querySelector('#df-e3a4f13b-71f7-4943-9ab8-a37ea674f656');\n",
              "          const dataTable =\n",
              "            await google.colab.kernel.invokeFunction('convertToInteractive',\n",
              "                                                     [key], {});\n",
              "          if (!dataTable) return;\n",
              "\n",
              "          const docLinkHtml = 'Like what you see? Visit the ' +\n",
              "            '<a target=\"_blank\" href=https://colab.research.google.com/notebooks/data_table.ipynb>data table notebook</a>'\n",
              "            + ' to learn more about interactive tables.';\n",
              "          element.innerHTML = '';\n",
              "          dataTable['output_type'] = 'display_data';\n",
              "          await google.colab.output.renderOutput(dataTable, element);\n",
              "          const docLink = document.createElement('div');\n",
              "          docLink.innerHTML = docLinkHtml;\n",
              "          element.appendChild(docLink);\n",
              "        }\n",
              "      </script>\n",
              "    </div>\n",
              "  </div>\n",
              "  "
            ]
          },
          "metadata": {},
          "execution_count": 12
        }
      ],
      "source": [
        "train_df.head()"
      ]
    },
    {
      "cell_type": "code",
      "execution_count": null,
      "metadata": {
        "id": "fQ-chYBNHsZX"
      },
      "outputs": [],
      "source": [
        "train_df_data = train_df[features]\n",
        "train_df_target = train_df[target]\n",
        "test_df_data = test_df[features]\n",
        "test_df_target = test_df[target]"
      ]
    },
    {
      "cell_type": "code",
      "execution_count": null,
      "metadata": {
        "id": "SzwGsoM9Hsb6"
      },
      "outputs": [],
      "source": [
        "train_df_data = train_df_data.reset_index(drop=True)\n",
        "train_df_target = train_df_target.reset_index(drop=True)\n",
        "train_df_data.index += 1\n",
        "train_df_total = pd.concat((train_df_data, train_df_target),axis=1)"
      ]
    },
    {
      "cell_type": "code",
      "execution_count": null,
      "metadata": {
        "id": "EdygFIX9KO8x"
      },
      "outputs": [],
      "source": [
        "test_df_data = test_df_data.reset_index(drop=True)\n",
        "test_df_target = test_df_target.reset_index(drop=True)\n",
        "test_df_data.index += 1\n",
        "test_df_total = pd.concat((test_df_data, test_df_target),axis=1)"
      ]
    },
    {
      "cell_type": "code",
      "execution_count": null,
      "metadata": {
        "id": "dyUZo5P2KPTg"
      },
      "outputs": [],
      "source": [
        "train_df_data = train_df_total[features]\n",
        "train_df_target = train_df_total[target]\n",
        "train_df_data = train_df_data[1:].reset_index()\n",
        "train_df_target = train_df_target[:-1].reset_index()"
      ]
    },
    {
      "cell_type": "code",
      "execution_count": null,
      "metadata": {
        "id": "pJSzg-MbWiP6"
      },
      "outputs": [],
      "source": [
        "train_df_data = pd.concat((train_df_data, test_df_data[:-6912]), axis=0).reset_index()\n",
        "train_df_target = pd.concat((train_df_target, test_df_target[:-6912]), axis=0).reset_index()"
      ]
    },
    {
      "cell_type": "code",
      "execution_count": null,
      "metadata": {
        "id": "4YcfHJbHQlbk"
      },
      "outputs": [],
      "source": [
        "test_df_data = test_df_total[features]\n",
        "test_df_target = test_df_total[target]\n",
        "test_df_data = test_df_data[1:].reset_index()\n",
        "test_df_target = test_df_target[:-1].reset_index()\n",
        "test_df_data = test_df_data[-6912:].reset_index(drop=True)\n",
        "test_df_target = test_df_target[-6912:].reset_index(drop=True)"
      ]
    },
    {
      "cell_type": "code",
      "execution_count": null,
      "metadata": {
        "id": "-3IUMr-Da0Nr"
      },
      "outputs": [],
      "source": [
        "test_df_data = test_df_data[features]\n",
        "train_df_target = train_df_target[target]\n",
        "train_df_data = train_df_data[features]\n",
        "test_df_target = test_df_target[target]"
      ]
    },
    {
      "cell_type": "code",
      "execution_count": null,
      "metadata": {
        "colab": {
          "base_uri": "https://localhost:8080/"
        },
        "id": "A8G5_LqJ8rGH",
        "outputId": "91d707e5-3683-46bb-d954-8bb621a51628"
      },
      "outputs": [
        {
          "output_type": "stream",
          "name": "stdout",
          "text": [
            "--train--\n",
            "(267840, 34)\n",
            "(267840, 4)\n",
            "--test--\n",
            "(6912, 34)\n",
            "(6912, 4)\n"
          ]
        }
      ],
      "source": [
        "print('--train--')\n",
        "print(train_df_data.shape)\n",
        "print(train_df_target.shape)\n",
        "print('--test--')\n",
        "print(test_df_data.shape)\n",
        "print(test_df_target.shape)"
      ]
    },
    {
      "cell_type": "code",
      "execution_count": null,
      "metadata": {
        "id": "W76deeDbTMQi"
      },
      "outputs": [],
      "source": [
        "train_df_data = train_df_data.fillna(0)\n",
        "test_df_data = test_df_data.fillna(0)"
      ]
    },
    {
      "cell_type": "code",
      "execution_count": null,
      "metadata": {
        "id": "AWTWAh4yaIUt"
      },
      "outputs": [],
      "source": [
        "def rmse(actual, predicted):\n",
        "    \"\"\" Root Mean Squared Error \"\"\"\n",
        "    return np.sqrt(mse(actual, predicted))\n",
        "\n",
        "def mse(actual, predicted):\n",
        "    \"\"\" Mean Squared Error \"\"\"\n",
        "    return np.mean(np.square(np.subtract(actual, predicted)))"
      ]
    },
    {
      "cell_type": "code",
      "execution_count": null,
      "metadata": {
        "id": "VSKy0SC2Oo_H"
      },
      "outputs": [],
      "source": [
        "def weighted_mse(alpha = 1):\n",
        "    def weighted_mse_fixed(label, pred):\n",
        "        residual = (label - pred).astype(\"float\")\n",
        "        grad = np.where(residual>0, -2*alpha*residual, -2*residual)\n",
        "        hess = np.where(residual>0, 2*alpha, 2.0)\n",
        "        return grad, hess\n",
        "    return weighted_mse_fixed"
      ]
    },
    {
      "cell_type": "code",
      "execution_count": null,
      "metadata": {
        "id": "r8pTkL70fUfT"
      },
      "outputs": [],
      "source": [
        "target =  [\"wl_1018662\", \"wl_1018680\", \"wl_1018683\", \"wl_1019630\"]"
      ]
    },
    {
      "cell_type": "code",
      "execution_count": null,
      "metadata": {
        "id": "GK4apyAfUW6R"
      },
      "outputs": [],
      "source": [
        "submission = pd.read_csv('paldang/sample_submission.csv')"
      ]
    },
    {
      "cell_type": "markdown",
      "metadata": {
        "id": "sy4NfMMEG1L4"
      },
      "source": [
        "## XGBoost"
      ]
    },
    {
      "cell_type": "code",
      "execution_count": null,
      "metadata": {
        "id": "YmxO-3jy1o2A"
      },
      "outputs": [],
      "source": [
        "train_df_target_ = train_df_target['wl_1018662']\n",
        "\n",
        "\n",
        "def objective(trial,data=train_df_data,target=train_df_target_):\n",
        "    \n",
        "    train_x, test_x, train_y, test_y = train_test_split(train_df_data, train_df_target_, test_size=0.2,random_state=42)\n",
        "    param = {\n",
        "        'lambda': trial.suggest_loguniform('lambda', 1e-3, 10.0),\n",
        "        'alpha': trial.suggest_loguniform('alpha', 1e-3, 10.0),\n",
        "        'colsample_bytree': trial.suggest_categorical('colsample_bytree', [0.3,0.4,0.5,0.6,0.7,0.8,0.9, 1.0]),\n",
        "        'colsample_bynode':trial.suggest_discrete_uniform('colsample_bynode', 0.1, 1, 0.01),\n",
        "        'colsample_bylevel':trial.suggest_discrete_uniform('colsample_bylevel', 0.1, 1, 0.01),\n",
        "        'subsample': trial.suggest_categorical('subsample', [0.4,0.5,0.6,0.7,0.8,1.0]),\n",
        "        'learning_rate': trial.suggest_categorical('learning_rate', [0.01,0.012,0.016,0.018, 0.02, 0.1]),\n",
        "        'n_estimators': trial.suggest_int('n_estimators', 20000, 50000),\n",
        "        'max_depth': trial.suggest_categorical('max_depth', [5,7,9,11,13,15,17,20]),\n",
        "        'random_state': trial.suggest_categorical('random_state', [42]),\n",
        "        'min_child_weight': trial.suggest_int('min_child_weight', 1, 400),\n",
        "        'objective': 'reg:squarederror'\n",
        "    }\n",
        "    model = xgb.XGBRegressor(**param)  \n",
        "    \n",
        "    model.fit(train_x,train_y,eval_set=[(test_x,test_y)],early_stopping_rounds=100,verbose=False)\n",
        "    \n",
        "    preds = model.predict(test_x)\n",
        "    \n",
        "    rmse = mean_squared_error(test_y, preds,squared=False)\n",
        "    \n",
        "    return rmse"
      ]
    },
    {
      "cell_type": "code",
      "execution_count": null,
      "metadata": {
        "colab": {
          "base_uri": "https://localhost:8080/",
          "height": 418
        },
        "id": "WFyTOBSw6qvg",
        "outputId": "904fe19b-2bc8-4b3c-be87-dd4db6f8ebfa"
      },
      "outputs": [
        {
          "name": "stderr",
          "output_type": "stream",
          "text": [
            "\u001b[32m[I 2022-08-29 10:01:30,876]\u001b[0m A new study created in memory with name: no-name-e255ba76-d733-4609-a674-0c6c053029ec\u001b[0m\n"
          ]
        },
        {
          "ename": "KeyboardInterrupt",
          "evalue": "ignored",
          "output_type": "error",
          "traceback": [
            "\u001b[0;31m---------------------------------------------------------------------------\u001b[0m",
            "\u001b[0;31mKeyboardInterrupt\u001b[0m                         Traceback (most recent call last)",
            "\u001b[0;32m<ipython-input-66-300b2e364e9c>\u001b[0m in \u001b[0;36m<module>\u001b[0;34m\u001b[0m\n\u001b[1;32m      1\u001b[0m \u001b[0mstudy\u001b[0m \u001b[0;34m=\u001b[0m \u001b[0moptuna\u001b[0m\u001b[0;34m.\u001b[0m\u001b[0mcreate_study\u001b[0m\u001b[0;34m(\u001b[0m\u001b[0mdirection\u001b[0m\u001b[0;34m=\u001b[0m\u001b[0;34m'minimize'\u001b[0m\u001b[0;34m)\u001b[0m\u001b[0;34m\u001b[0m\u001b[0;34m\u001b[0m\u001b[0m\n\u001b[0;32m----> 2\u001b[0;31m \u001b[0mstudy\u001b[0m\u001b[0;34m.\u001b[0m\u001b[0moptimize\u001b[0m\u001b[0;34m(\u001b[0m\u001b[0mobjective\u001b[0m\u001b[0;34m,\u001b[0m \u001b[0mn_trials\u001b[0m\u001b[0;34m=\u001b[0m\u001b[0;36m50\u001b[0m\u001b[0;34m)\u001b[0m\u001b[0;34m\u001b[0m\u001b[0;34m\u001b[0m\u001b[0m\n\u001b[0m\u001b[1;32m      3\u001b[0m \u001b[0mprint\u001b[0m\u001b[0;34m(\u001b[0m\u001b[0;34m'Number of finished trials:'\u001b[0m\u001b[0;34m,\u001b[0m \u001b[0mlen\u001b[0m\u001b[0;34m(\u001b[0m\u001b[0mstudy\u001b[0m\u001b[0;34m.\u001b[0m\u001b[0mtrials\u001b[0m\u001b[0;34m)\u001b[0m\u001b[0;34m)\u001b[0m\u001b[0;34m\u001b[0m\u001b[0;34m\u001b[0m\u001b[0m\n\u001b[1;32m      4\u001b[0m \u001b[0mprint\u001b[0m\u001b[0;34m(\u001b[0m\u001b[0;34m'Best trial:'\u001b[0m\u001b[0;34m,\u001b[0m \u001b[0mstudy\u001b[0m\u001b[0;34m.\u001b[0m\u001b[0mbest_trial\u001b[0m\u001b[0;34m.\u001b[0m\u001b[0mparams\u001b[0m\u001b[0;34m)\u001b[0m\u001b[0;34m\u001b[0m\u001b[0;34m\u001b[0m\u001b[0m\n\u001b[1;32m      5\u001b[0m \u001b[0;34m\u001b[0m\u001b[0m\n",
            "\u001b[0;32m/usr/local/lib/python3.7/dist-packages/optuna/study/study.py\u001b[0m in \u001b[0;36moptimize\u001b[0;34m(self, func, n_trials, timeout, n_jobs, catch, callbacks, gc_after_trial, show_progress_bar)\u001b[0m\n\u001b[1;32m    407\u001b[0m             \u001b[0mcallbacks\u001b[0m\u001b[0;34m=\u001b[0m\u001b[0mcallbacks\u001b[0m\u001b[0;34m,\u001b[0m\u001b[0;34m\u001b[0m\u001b[0;34m\u001b[0m\u001b[0m\n\u001b[1;32m    408\u001b[0m             \u001b[0mgc_after_trial\u001b[0m\u001b[0;34m=\u001b[0m\u001b[0mgc_after_trial\u001b[0m\u001b[0;34m,\u001b[0m\u001b[0;34m\u001b[0m\u001b[0;34m\u001b[0m\u001b[0m\n\u001b[0;32m--> 409\u001b[0;31m             \u001b[0mshow_progress_bar\u001b[0m\u001b[0;34m=\u001b[0m\u001b[0mshow_progress_bar\u001b[0m\u001b[0;34m,\u001b[0m\u001b[0;34m\u001b[0m\u001b[0;34m\u001b[0m\u001b[0m\n\u001b[0m\u001b[1;32m    410\u001b[0m         )\n\u001b[1;32m    411\u001b[0m \u001b[0;34m\u001b[0m\u001b[0m\n",
            "\u001b[0;32m/usr/local/lib/python3.7/dist-packages/optuna/study/_optimize.py\u001b[0m in \u001b[0;36m_optimize\u001b[0;34m(study, func, n_trials, timeout, n_jobs, catch, callbacks, gc_after_trial, show_progress_bar)\u001b[0m\n\u001b[1;32m     74\u001b[0m                 \u001b[0mreseed_sampler_rng\u001b[0m\u001b[0;34m=\u001b[0m\u001b[0;32mFalse\u001b[0m\u001b[0;34m,\u001b[0m\u001b[0;34m\u001b[0m\u001b[0;34m\u001b[0m\u001b[0m\n\u001b[1;32m     75\u001b[0m                 \u001b[0mtime_start\u001b[0m\u001b[0;34m=\u001b[0m\u001b[0;32mNone\u001b[0m\u001b[0;34m,\u001b[0m\u001b[0;34m\u001b[0m\u001b[0;34m\u001b[0m\u001b[0m\n\u001b[0;32m---> 76\u001b[0;31m                 \u001b[0mprogress_bar\u001b[0m\u001b[0;34m=\u001b[0m\u001b[0mprogress_bar\u001b[0m\u001b[0;34m,\u001b[0m\u001b[0;34m\u001b[0m\u001b[0;34m\u001b[0m\u001b[0m\n\u001b[0m\u001b[1;32m     77\u001b[0m             )\n\u001b[1;32m     78\u001b[0m         \u001b[0;32melse\u001b[0m\u001b[0;34m:\u001b[0m\u001b[0;34m\u001b[0m\u001b[0;34m\u001b[0m\u001b[0m\n",
            "\u001b[0;32m/usr/local/lib/python3.7/dist-packages/optuna/study/_optimize.py\u001b[0m in \u001b[0;36m_optimize_sequential\u001b[0;34m(study, func, n_trials, timeout, catch, callbacks, gc_after_trial, reseed_sampler_rng, time_start, progress_bar)\u001b[0m\n\u001b[1;32m    161\u001b[0m \u001b[0;34m\u001b[0m\u001b[0m\n\u001b[1;32m    162\u001b[0m         \u001b[0;32mtry\u001b[0m\u001b[0;34m:\u001b[0m\u001b[0;34m\u001b[0m\u001b[0;34m\u001b[0m\u001b[0m\n\u001b[0;32m--> 163\u001b[0;31m             \u001b[0mtrial\u001b[0m \u001b[0;34m=\u001b[0m \u001b[0m_run_trial\u001b[0m\u001b[0;34m(\u001b[0m\u001b[0mstudy\u001b[0m\u001b[0;34m,\u001b[0m \u001b[0mfunc\u001b[0m\u001b[0;34m,\u001b[0m \u001b[0mcatch\u001b[0m\u001b[0;34m)\u001b[0m\u001b[0;34m\u001b[0m\u001b[0;34m\u001b[0m\u001b[0m\n\u001b[0m\u001b[1;32m    164\u001b[0m         \u001b[0;32mexcept\u001b[0m \u001b[0mException\u001b[0m\u001b[0;34m:\u001b[0m\u001b[0;34m\u001b[0m\u001b[0;34m\u001b[0m\u001b[0m\n\u001b[1;32m    165\u001b[0m             \u001b[0;32mraise\u001b[0m\u001b[0;34m\u001b[0m\u001b[0;34m\u001b[0m\u001b[0m\n",
            "\u001b[0;32m/usr/local/lib/python3.7/dist-packages/optuna/study/_optimize.py\u001b[0m in \u001b[0;36m_run_trial\u001b[0;34m(study, func, catch)\u001b[0m\n\u001b[1;32m    211\u001b[0m \u001b[0;34m\u001b[0m\u001b[0m\n\u001b[1;32m    212\u001b[0m     \u001b[0;32mtry\u001b[0m\u001b[0;34m:\u001b[0m\u001b[0;34m\u001b[0m\u001b[0;34m\u001b[0m\u001b[0m\n\u001b[0;32m--> 213\u001b[0;31m         \u001b[0mvalue_or_values\u001b[0m \u001b[0;34m=\u001b[0m \u001b[0mfunc\u001b[0m\u001b[0;34m(\u001b[0m\u001b[0mtrial\u001b[0m\u001b[0;34m)\u001b[0m\u001b[0;34m\u001b[0m\u001b[0;34m\u001b[0m\u001b[0m\n\u001b[0m\u001b[1;32m    214\u001b[0m     \u001b[0;32mexcept\u001b[0m \u001b[0mexceptions\u001b[0m\u001b[0;34m.\u001b[0m\u001b[0mTrialPruned\u001b[0m \u001b[0;32mas\u001b[0m \u001b[0me\u001b[0m\u001b[0;34m:\u001b[0m\u001b[0;34m\u001b[0m\u001b[0;34m\u001b[0m\u001b[0m\n\u001b[1;32m    215\u001b[0m         \u001b[0;31m# TODO(mamu): Handle multi-objective cases.\u001b[0m\u001b[0;34m\u001b[0m\u001b[0;34m\u001b[0m\u001b[0;34m\u001b[0m\u001b[0m\n",
            "\u001b[0;32m<ipython-input-65-81899dbd97ee>\u001b[0m in \u001b[0;36mobjective\u001b[0;34m(trial, data, target)\u001b[0m\n\u001b[1;32m     21\u001b[0m     \u001b[0mmodel\u001b[0m \u001b[0;34m=\u001b[0m \u001b[0mxgb\u001b[0m\u001b[0;34m.\u001b[0m\u001b[0mXGBRegressor\u001b[0m\u001b[0;34m(\u001b[0m\u001b[0;34m**\u001b[0m\u001b[0mparam\u001b[0m\u001b[0;34m)\u001b[0m\u001b[0;34m\u001b[0m\u001b[0;34m\u001b[0m\u001b[0m\n\u001b[1;32m     22\u001b[0m \u001b[0;34m\u001b[0m\u001b[0m\n\u001b[0;32m---> 23\u001b[0;31m     \u001b[0mmodel\u001b[0m\u001b[0;34m.\u001b[0m\u001b[0mfit\u001b[0m\u001b[0;34m(\u001b[0m\u001b[0mtrain_x\u001b[0m\u001b[0;34m,\u001b[0m\u001b[0mtrain_y\u001b[0m\u001b[0;34m,\u001b[0m\u001b[0meval_set\u001b[0m\u001b[0;34m=\u001b[0m\u001b[0;34m[\u001b[0m\u001b[0;34m(\u001b[0m\u001b[0mtest_x\u001b[0m\u001b[0;34m,\u001b[0m\u001b[0mtest_y\u001b[0m\u001b[0;34m)\u001b[0m\u001b[0;34m]\u001b[0m\u001b[0;34m,\u001b[0m\u001b[0mearly_stopping_rounds\u001b[0m\u001b[0;34m=\u001b[0m\u001b[0;36m100\u001b[0m\u001b[0;34m,\u001b[0m\u001b[0mverbose\u001b[0m\u001b[0;34m=\u001b[0m\u001b[0;32mFalse\u001b[0m\u001b[0;34m)\u001b[0m\u001b[0;34m\u001b[0m\u001b[0;34m\u001b[0m\u001b[0m\n\u001b[0m\u001b[1;32m     24\u001b[0m \u001b[0;34m\u001b[0m\u001b[0m\n\u001b[1;32m     25\u001b[0m     \u001b[0mpreds\u001b[0m \u001b[0;34m=\u001b[0m \u001b[0mmodel\u001b[0m\u001b[0;34m.\u001b[0m\u001b[0mpredict\u001b[0m\u001b[0;34m(\u001b[0m\u001b[0mtest_x\u001b[0m\u001b[0;34m)\u001b[0m\u001b[0;34m\u001b[0m\u001b[0;34m\u001b[0m\u001b[0m\n",
            "\u001b[0;32m/usr/local/lib/python3.7/dist-packages/xgboost/sklearn.py\u001b[0m in \u001b[0;36mfit\u001b[0;34m(self, X, y, sample_weight, eval_set, eval_metric, early_stopping_rounds, verbose, xgb_model, sample_weight_eval_set, callbacks)\u001b[0m\n\u001b[1;32m    394\u001b[0m                               \u001b[0mevals_result\u001b[0m\u001b[0;34m=\u001b[0m\u001b[0mevals_result\u001b[0m\u001b[0;34m,\u001b[0m \u001b[0mobj\u001b[0m\u001b[0;34m=\u001b[0m\u001b[0mobj\u001b[0m\u001b[0;34m,\u001b[0m \u001b[0mfeval\u001b[0m\u001b[0;34m=\u001b[0m\u001b[0mfeval\u001b[0m\u001b[0;34m,\u001b[0m\u001b[0;34m\u001b[0m\u001b[0;34m\u001b[0m\u001b[0m\n\u001b[1;32m    395\u001b[0m                               \u001b[0mverbose_eval\u001b[0m\u001b[0;34m=\u001b[0m\u001b[0mverbose\u001b[0m\u001b[0;34m,\u001b[0m \u001b[0mxgb_model\u001b[0m\u001b[0;34m=\u001b[0m\u001b[0mxgb_model\u001b[0m\u001b[0;34m,\u001b[0m\u001b[0;34m\u001b[0m\u001b[0;34m\u001b[0m\u001b[0m\n\u001b[0;32m--> 396\u001b[0;31m                               callbacks=callbacks)\n\u001b[0m\u001b[1;32m    397\u001b[0m \u001b[0;34m\u001b[0m\u001b[0m\n\u001b[1;32m    398\u001b[0m         \u001b[0;32mif\u001b[0m \u001b[0mevals_result\u001b[0m\u001b[0;34m:\u001b[0m\u001b[0;34m\u001b[0m\u001b[0;34m\u001b[0m\u001b[0m\n",
            "\u001b[0;32m/usr/local/lib/python3.7/dist-packages/xgboost/training.py\u001b[0m in \u001b[0;36mtrain\u001b[0;34m(params, dtrain, num_boost_round, evals, obj, feval, maximize, early_stopping_rounds, evals_result, verbose_eval, xgb_model, callbacks, learning_rates)\u001b[0m\n\u001b[1;32m    214\u001b[0m                            \u001b[0mevals\u001b[0m\u001b[0;34m=\u001b[0m\u001b[0mevals\u001b[0m\u001b[0;34m,\u001b[0m\u001b[0;34m\u001b[0m\u001b[0;34m\u001b[0m\u001b[0m\n\u001b[1;32m    215\u001b[0m                            \u001b[0mobj\u001b[0m\u001b[0;34m=\u001b[0m\u001b[0mobj\u001b[0m\u001b[0;34m,\u001b[0m \u001b[0mfeval\u001b[0m\u001b[0;34m=\u001b[0m\u001b[0mfeval\u001b[0m\u001b[0;34m,\u001b[0m\u001b[0;34m\u001b[0m\u001b[0;34m\u001b[0m\u001b[0m\n\u001b[0;32m--> 216\u001b[0;31m                            xgb_model=xgb_model, callbacks=callbacks)\n\u001b[0m\u001b[1;32m    217\u001b[0m \u001b[0;34m\u001b[0m\u001b[0m\n\u001b[1;32m    218\u001b[0m \u001b[0;34m\u001b[0m\u001b[0m\n",
            "\u001b[0;32m/usr/local/lib/python3.7/dist-packages/xgboost/training.py\u001b[0m in \u001b[0;36m_train_internal\u001b[0;34m(params, dtrain, num_boost_round, evals, obj, feval, xgb_model, callbacks)\u001b[0m\n\u001b[1;32m     72\u001b[0m         \u001b[0;31m# Skip the first update if it is a recovery step.\u001b[0m\u001b[0;34m\u001b[0m\u001b[0;34m\u001b[0m\u001b[0;34m\u001b[0m\u001b[0m\n\u001b[1;32m     73\u001b[0m         \u001b[0;32mif\u001b[0m \u001b[0mversion\u001b[0m \u001b[0;34m%\u001b[0m \u001b[0;36m2\u001b[0m \u001b[0;34m==\u001b[0m \u001b[0;36m0\u001b[0m\u001b[0;34m:\u001b[0m\u001b[0;34m\u001b[0m\u001b[0;34m\u001b[0m\u001b[0m\n\u001b[0;32m---> 74\u001b[0;31m             \u001b[0mbst\u001b[0m\u001b[0;34m.\u001b[0m\u001b[0mupdate\u001b[0m\u001b[0;34m(\u001b[0m\u001b[0mdtrain\u001b[0m\u001b[0;34m,\u001b[0m \u001b[0mi\u001b[0m\u001b[0;34m,\u001b[0m \u001b[0mobj\u001b[0m\u001b[0;34m)\u001b[0m\u001b[0;34m\u001b[0m\u001b[0;34m\u001b[0m\u001b[0m\n\u001b[0m\u001b[1;32m     75\u001b[0m             \u001b[0mbst\u001b[0m\u001b[0;34m.\u001b[0m\u001b[0msave_rabit_checkpoint\u001b[0m\u001b[0;34m(\u001b[0m\u001b[0;34m)\u001b[0m\u001b[0;34m\u001b[0m\u001b[0;34m\u001b[0m\u001b[0m\n\u001b[1;32m     76\u001b[0m             \u001b[0mversion\u001b[0m \u001b[0;34m+=\u001b[0m \u001b[0;36m1\u001b[0m\u001b[0;34m\u001b[0m\u001b[0;34m\u001b[0m\u001b[0m\n",
            "\u001b[0;32m/usr/local/lib/python3.7/dist-packages/xgboost/core.py\u001b[0m in \u001b[0;36mupdate\u001b[0;34m(self, dtrain, iteration, fobj)\u001b[0m\n\u001b[1;32m   1107\u001b[0m         \u001b[0;32mif\u001b[0m \u001b[0mfobj\u001b[0m \u001b[0;32mis\u001b[0m \u001b[0;32mNone\u001b[0m\u001b[0;34m:\u001b[0m\u001b[0;34m\u001b[0m\u001b[0;34m\u001b[0m\u001b[0m\n\u001b[1;32m   1108\u001b[0m             _check_call(_LIB.XGBoosterUpdateOneIter(self.handle, ctypes.c_int(iteration),\n\u001b[0;32m-> 1109\u001b[0;31m                                                     dtrain.handle))\n\u001b[0m\u001b[1;32m   1110\u001b[0m         \u001b[0;32melse\u001b[0m\u001b[0;34m:\u001b[0m\u001b[0;34m\u001b[0m\u001b[0;34m\u001b[0m\u001b[0m\n\u001b[1;32m   1111\u001b[0m             \u001b[0mpred\u001b[0m \u001b[0;34m=\u001b[0m \u001b[0mself\u001b[0m\u001b[0;34m.\u001b[0m\u001b[0mpredict\u001b[0m\u001b[0;34m(\u001b[0m\u001b[0mdtrain\u001b[0m\u001b[0;34m)\u001b[0m\u001b[0;34m\u001b[0m\u001b[0;34m\u001b[0m\u001b[0m\n",
            "\u001b[0;31mKeyboardInterrupt\u001b[0m: "
          ]
        }
      ],
      "source": [
        "study = optuna.create_study(direction='minimize')\n",
        "study.optimize(objective, n_trials=50)\n",
        "print('Number of finished trials:', len(study.trials))\n",
        "print('Best trial:', study.best_trial.params)\n",
        "\n",
        "Best_trial = study.best_trial.params\n",
        "Best_trial[\"tree_method\"] = 'gpu_hist'\n",
        "Best_trial"
      ]
    },
    {
      "cell_type": "code",
      "execution_count": null,
      "metadata": {
        "colab": {
          "base_uri": "https://localhost:8080/"
        },
        "id": "NW8kRv_XWGjF",
        "outputId": "0e5ef828-9dce-43af-c88f-0b7f1498cf41"
      },
      "outputs": [
        {
          "name": "stdout",
          "output_type": "stream",
          "text": [
            "fold: 1 ==> rmse: 0.917395853902935\n",
            "fold: 2 ==> rmse: 0.7458788927165202\n",
            "fold: 3 ==> rmse: 0.7971609906121663\n",
            "fold: 4 ==> rmse: 1.1308250563225946\n",
            "fold: 5 ==> rmse: 0.8097095410021528\n"
          ]
        }
      ],
      "source": [
        "train_df_target_ = train_df_target['wl_1018662']\n",
        "\n",
        "\n",
        "Best_trial = {'alpha': 0.018413750787302015,\n",
        " 'colsample_bytree': 1.0,\n",
        " 'lambda': 0.0398197187304524,\n",
        " 'learning_rate': 0.01,\n",
        " 'max_depth': 13,\n",
        " 'min_child_weight': 20,\n",
        " 'n_estimators': 20000,\n",
        " 'random_state': 42,\n",
        " 'subsample': 0.6,\n",
        " 'tree_method': 'gpu_hist',\n",
        "  'objective': 'reg:squarederror',\n",
        "  'eval_metric': 'rmse'}\n",
        "\n",
        "\n",
        "preds = np.zeros(test_df_data.shape[0])\n",
        "\n",
        "kf = KFold(n_splits=5,random_state=42,shuffle=True)\n",
        "rmse=[]  # list contains rmse for each fold\n",
        "n=0\n",
        "\n",
        "for trn_idx, test_idx in kf.split(train_df_data, train_df_target_) :\n",
        "  \n",
        "  x_train, x_valid = train_df_data.iloc[trn_idx], train_df_data.iloc[test_idx]\n",
        "  y_train, y_valid = train_df_target_.iloc[trn_idx], train_df_target_.iloc[test_idx]\n",
        "  xgb_reg = XGBRegressor(**Best_trial)\n",
        "\n",
        "  xgb_reg.fit(x_train, y_train, eval_set=[(x_valid, y_valid)], early_stopping_rounds=1000, verbose=False)\n",
        "  y_pred = xgb_reg.predict(x_valid)\n",
        "  rm = mean_squared_error(y_valid, y_pred)\n",
        "  rmse.append(rm)\n",
        "\n",
        "  print(f\"fold: {n+1} ==> rmse: {rmse[n]}\")\n",
        "  n = n + 1\n",
        "\n",
        "  test_pred = xgb_reg.predict(test_df_data)\n",
        "  pred = pd.Series(test_pred) \n",
        "  preds += pred / kf.n_splits  \n",
        "\n",
        "submission[\"wl_1018662\"] = preds"
      ]
    },
    {
      "cell_type": "code",
      "execution_count": null,
      "metadata": {
        "id": "grk6YHO_DL9W"
      },
      "outputs": [],
      "source": [
        "train_df_target_ = train_df_target['wl_1018680']\n",
        "\n",
        "study = optuna.create_study(direction='minimize')\n",
        "study.optimize(objective, n_trials=50)\n",
        "print('Number of finished trials:', len(study.trials))\n",
        "print('Best trial:', study.best_trial.params)\n",
        "\n",
        "Best_trial = study.best_trial.params\n",
        "Best_trial[\"tree_method\"] = 'gpu_hist'\n",
        "Best_trial"
      ]
    },
    {
      "cell_type": "code",
      "execution_count": null,
      "metadata": {
        "colab": {
          "base_uri": "https://localhost:8080/"
        },
        "id": "4cznSCU8WGq4",
        "outputId": "e4fe16f2-ca27-4357-bbe9-bdf5eeee7e6b"
      },
      "outputs": [
        {
          "name": "stdout",
          "output_type": "stream",
          "text": [
            "fold: 1 ==> rmse: 1.8824215556411217\n",
            "fold: 2 ==> rmse: 1.7096577018577204\n",
            "fold: 3 ==> rmse: 1.7445260136587128\n",
            "fold: 4 ==> rmse: 1.9624560059344929\n",
            "fold: 5 ==> rmse: 1.7527543654239373\n"
          ]
        }
      ],
      "source": [
        "train_df_target_ = train_df_target['wl_1018680']\n",
        "\n",
        "preds = np.zeros(test_df_data.shape[0])\n",
        "\n",
        "kf = KFold(n_splits=5,random_state=42,shuffle=True)\n",
        "rmse=[]  # list contains rmse for each fold\n",
        "n=0\n",
        "\n",
        "\n",
        "Best_trial = {'alpha': 0.0022827886072498645,\n",
        " 'colsample_bytree': 0.7,\n",
        " 'lambda': 0.006168253589926699,\n",
        " 'learning_rate': 0.018,\n",
        " 'max_depth': 15,\n",
        " 'min_child_weight': 41,\n",
        " 'n_estimators': 20000,\n",
        " 'random_state': 42,\n",
        " 'subsample': 0.6,\n",
        " 'tree_method': 'gpu_hist',\n",
        "  'objective': 'reg:squarederror',\n",
        "  'eval_metric': 'rmse'}\n",
        "\n",
        "for trn_idx, test_idx in kf.split(train_df_data, train_df_target_) :\n",
        "  \n",
        "  x_train, x_valid = train_df_data.iloc[trn_idx], train_df_data.iloc[test_idx]\n",
        "  y_train, y_valid = train_df_target_.iloc[trn_idx], train_df_target_.iloc[test_idx]\n",
        "  xgb_reg = XGBRegressor(**Best_trial)\n",
        "\n",
        "  xgb_reg.fit(x_train, y_train, eval_set=[(x_valid, y_valid)], early_stopping_rounds=1000, verbose=False)\n",
        "  y_pred = xgb_reg.predict(x_valid)\n",
        "  rm = mean_squared_error(y_valid, y_pred)\n",
        "  rmse.append(rm)\n",
        "\n",
        "  print(f\"fold: {n+1} ==> rmse: {rmse[n]}\")\n",
        "  n = n + 1\n",
        "\n",
        "  test_pred = xgb_reg.predict(test_df_data)\n",
        "  pred = pd.Series(test_pred) \n",
        "  preds += pred / kf.n_splits  \n",
        "\n",
        "submission[\"wl_1018680\"] = pred"
      ]
    },
    {
      "cell_type": "code",
      "execution_count": null,
      "metadata": {
        "id": "4oEeAK-yEYAq"
      },
      "outputs": [],
      "source": [
        "train_df_target_ = train_df_target['wl_1018683']\n",
        "\n",
        "study = optuna.create_study(direction='minimize')\n",
        "study.optimize(objective, n_trials=50)\n",
        "print('Number of finished trials:', len(study.trials))\n",
        "print('Best trial:', study.best_trial.params)\n",
        "\n",
        "Best_trial = study.best_trial.params\n",
        "Best_trial[\"tree_method\"] = 'gpu_hist'\n",
        "Best_trial"
      ]
    },
    {
      "cell_type": "code",
      "execution_count": null,
      "metadata": {
        "colab": {
          "base_uri": "https://localhost:8080/"
        },
        "id": "WlAvDc0iWGtg",
        "outputId": "c6c4d20b-d7f5-4b58-bf48-8a8e34a111df"
      },
      "outputs": [
        {
          "name": "stdout",
          "output_type": "stream",
          "text": [
            "fold: 1 ==> rmse: 1.718096463066629\n",
            "fold: 2 ==> rmse: 1.5657000209476577\n",
            "fold: 3 ==> rmse: 1.6260388152842156\n",
            "fold: 4 ==> rmse: 1.7805712521861203\n",
            "fold: 5 ==> rmse: 1.662302159624884\n"
          ]
        }
      ],
      "source": [
        "train_df_target_ = train_df_target['wl_1018683']\n",
        "\n",
        "\n",
        "preds = np.zeros(test_df_data.shape[0])\n",
        "\n",
        "kf = KFold(n_splits=5,random_state=42,shuffle=True)\n",
        "rmse=[]  # list contains rmse for each fold\n",
        "n=0\n",
        "\n",
        "Best_trial = {'alpha': 0.0021317117857960013,\n",
        " 'colsample_bytree': 0.6,\n",
        " 'lambda': 0.40697894634344806,\n",
        " 'learning_rate': 0.018,\n",
        " 'max_depth': 15,\n",
        " 'min_child_weight': 37,\n",
        " 'n_estimators': 20000,\n",
        " 'random_state': 42,\n",
        " 'subsample': 0.6,\n",
        " 'tree_method': 'gpu_hist',\n",
        "  'objective': 'reg:squarederror',\n",
        "  'eval_metric': 'rmse',}\n",
        "\n",
        "for trn_idx, test_idx in kf.split(train_df_data, train_df_target_) :\n",
        "  \n",
        "  x_train, x_valid = train_df_data.iloc[trn_idx], train_df_data.iloc[test_idx]\n",
        "  y_train, y_valid = train_df_target_.iloc[trn_idx], train_df_target_.iloc[test_idx]\n",
        "  xgb_reg = XGBRegressor(**Best_trial)\n",
        "\n",
        "  xgb_reg.fit(x_train, y_train, eval_set=[(x_valid, y_valid)], early_stopping_rounds=1000, verbose=False)\n",
        "  y_pred = xgb_reg.predict(x_valid)\n",
        "  rm = mean_squared_error(y_valid, y_pred)\n",
        "  rmse.append(rm)\n",
        "\n",
        "  print(f\"fold: {n+1} ==> rmse: {rmse[n]}\")\n",
        "  n = n + 1\n",
        "\n",
        "  test_pred = xgb_reg.predict(test_df_data)\n",
        "  pred = pd.Series(test_pred) \n",
        "  preds += pred / kf.n_splits  \n",
        "\n",
        "submission[\"wl_1018683\"] = pred"
      ]
    },
    {
      "cell_type": "code",
      "execution_count": null,
      "metadata": {
        "id": "tEg7RtK2FojP"
      },
      "outputs": [],
      "source": [
        "train_df_target_ = train_df_target['wl_1019630']\n",
        "\n",
        "study = optuna.create_study(direction='minimize')\n",
        "study.optimize(objective, n_trials=50)\n",
        "print('Number of finished trials:', len(study.trials))\n",
        "print('Best trial:', study.best_trial.params)\n",
        "\n",
        "Best_trial = study.best_trial.params\n",
        "Best_trial[\"tree_method\"] = 'gpu_hist'\n",
        "Best_trial"
      ]
    },
    {
      "cell_type": "code",
      "execution_count": null,
      "metadata": {
        "colab": {
          "base_uri": "https://localhost:8080/"
        },
        "id": "YI3NW2BjWGvx",
        "outputId": "4a794999-7986-44a3-ba9e-ae3a3ecf2859"
      },
      "outputs": [
        {
          "name": "stdout",
          "output_type": "stream",
          "text": [
            "fold: 1 ==> rmse: 0.4256904779540274\n",
            "fold: 2 ==> rmse: 0.3939467771816329\n",
            "fold: 3 ==> rmse: 0.380654578680949\n",
            "fold: 4 ==> rmse: 0.45187661632919146\n",
            "fold: 5 ==> rmse: 0.37758341360322006\n"
          ]
        }
      ],
      "source": [
        "train_df_target_ = train_df_target['wl_1019630']\n",
        "\n",
        "preds = np.zeros(test_df_data.shape[0])\n",
        "\n",
        "kf = KFold(n_splits=5,random_state=42,shuffle=True)\n",
        "rmse=[]  # list contains rmse for each fold\n",
        "n=0\n",
        "\n",
        "Best_trial = {'alpha': 0.007997507769922951,\n",
        " 'colsample_bytree': 1.0,\n",
        " 'lambda': 0.0026890622253430583,\n",
        " 'learning_rate': 0.014,\n",
        " 'max_depth': 17,\n",
        " 'min_child_weight': 12,\n",
        " 'n_estimators': 20000,\n",
        " 'random_state': 42,\n",
        " 'subsample': 0.6,\n",
        " 'tree_method': 'gpu_hist',\n",
        "  'objective': 'reg:squarederror',\n",
        "  'eval_metric': 'rmse'}\n",
        "\n",
        "for trn_idx, test_idx in kf.split(train_df_data, train_df_target_) :\n",
        "  \n",
        "  x_train, x_valid = train_df_data.iloc[trn_idx], train_df_data.iloc[test_idx]\n",
        "  y_train, y_valid = train_df_target_.iloc[trn_idx], train_df_target_.iloc[test_idx]\n",
        "  xgb_reg = XGBRegressor(**Best_trial)\n",
        "\n",
        "  xgb_reg.fit(x_train, y_train, eval_set=[(x_valid, y_valid)], early_stopping_rounds=1000, verbose=False)\n",
        "  y_pred = xgb_reg.predict(x_valid)\n",
        "  rm = mean_squared_error(y_valid, y_pred)\n",
        "  rmse.append(rm)\n",
        "\n",
        "  print(f\"fold: {n+1} ==> rmse: {rmse[n]}\")\n",
        "  n = n + 1\n",
        "\n",
        "  test_pred = xgb_reg.predict(test_df_data)\n",
        "  pred = pd.Series(test_pred) \n",
        "  preds += pred / kf.n_splits  \n",
        "\n",
        "submission[\"wl_1019630\"] = pred"
      ]
    },
    {
      "cell_type": "code",
      "execution_count": null,
      "metadata": {
        "colab": {
          "base_uri": "https://localhost:8080/",
          "height": 313
        },
        "id": "z2nHa7GWTZET",
        "outputId": "7ec94c09-78c0-46d5-8dc3-8e60c66c79f0"
      },
      "outputs": [
        {
          "data": {
            "text/plain": [
              "<Figure size 1440x1440 with 0 Axes>"
            ]
          },
          "metadata": {},
          "output_type": "display_data"
        },
        {
          "data": {
            "image/png": "[encoded data removed]",
            "text/plain": [
              "<Figure size 432x288 with 1 Axes>"
            ]
          },
          "metadata": {},
          "output_type": "display_data"
        }
      ],
      "source": [
        "plt.figure(figsize=(20,20))\n",
        "plot_importance(xgb_reg)\n",
        "plt.show()"
      ]
    },
    {
      "cell_type": "code",
      "execution_count": null,
      "metadata": {
        "colab": {
          "base_uri": "https://localhost:8080/",
          "height": 206
        },
        "id": "-UpE7iR1OpCb",
        "outputId": "7d5832cd-ec66-454e-9463-e89d080211e4"
      },
      "outputs": [
        {
          "data": {
            "text/html": [
              "\n",
              "  <div id=\"df-7f8d549c-af48-4a1f-9ca9-a18dcd07d298\">\n",
              "    <div class=\"colab-df-container\">\n",
              "      <div>\n",
              "<style scoped>\n",
              "    .dataframe tbody tr th:only-of-type {\n",
              "        vertical-align: middle;\n",
              "    }\n",
              "\n",
              "    .dataframe tbody tr th {\n",
              "        vertical-align: top;\n",
              "    }\n",
              "\n",
              "    .dataframe thead th {\n",
              "        text-align: right;\n",
              "    }\n",
              "</style>\n",
              "<table border=\"1\" class=\"dataframe\">\n",
              "  <thead>\n",
              "    <tr style=\"text-align: right;\">\n",
              "      <th></th>\n",
              "      <th>ymdhm</th>\n",
              "      <th>wl_1018662</th>\n",
              "      <th>wl_1018680</th>\n",
              "      <th>wl_1018683</th>\n",
              "      <th>wl_1019630</th>\n",
              "    </tr>\n",
              "  </thead>\n",
              "  <tbody>\n",
              "    <tr>\n",
              "      <th>0</th>\n",
              "      <td>2022-06-01 00:00</td>\n",
              "      <td>278.185265</td>\n",
              "      <td>275.156189</td>\n",
              "      <td>275.300903</td>\n",
              "      <td>269.300110</td>\n",
              "    </tr>\n",
              "    <tr>\n",
              "      <th>1</th>\n",
              "      <td>2022-06-01 00:10</td>\n",
              "      <td>280.708061</td>\n",
              "      <td>274.158112</td>\n",
              "      <td>275.023346</td>\n",
              "      <td>267.299988</td>\n",
              "    </tr>\n",
              "    <tr>\n",
              "      <th>2</th>\n",
              "      <td>2022-06-01 00:20</td>\n",
              "      <td>283.595112</td>\n",
              "      <td>275.237183</td>\n",
              "      <td>276.068665</td>\n",
              "      <td>264.299744</td>\n",
              "    </tr>\n",
              "    <tr>\n",
              "      <th>3</th>\n",
              "      <td>2022-06-01 00:30</td>\n",
              "      <td>284.620430</td>\n",
              "      <td>275.886017</td>\n",
              "      <td>275.322937</td>\n",
              "      <td>261.303802</td>\n",
              "    </tr>\n",
              "    <tr>\n",
              "      <th>4</th>\n",
              "      <td>2022-06-01 00:40</td>\n",
              "      <td>283.623436</td>\n",
              "      <td>275.985291</td>\n",
              "      <td>275.151154</td>\n",
              "      <td>259.300720</td>\n",
              "    </tr>\n",
              "  </tbody>\n",
              "</table>\n",
              "</div>\n",
              "      <button class=\"colab-df-convert\" onclick=\"convertToInteractive('df-7f8d549c-af48-4a1f-9ca9-a18dcd07d298')\"\n",
              "              title=\"Convert this dataframe to an interactive table.\"\n",
              "              style=\"display:none;\">\n",
              "        \n",
              "  <svg xmlns=\"http://www.w3.org/2000/svg\" height=\"24px\"viewBox=\"0 0 24 24\"\n",
              "       width=\"24px\">\n",
              "    <path d=\"M0 0h24v24H0V0z\" fill=\"none\"/>\n",
              "    <path d=\"M18.56 5.44l.94 2.06.94-2.06 2.06-.94-2.06-.94-.94-2.06-.94 2.06-2.06.94zm-11 1L8.5 8.5l.94-2.06 2.06-.94-2.06-.94L8.5 2.5l-.94 2.06-2.06.94zm10 10l.94 2.06.94-2.06 2.06-.94-2.06-.94-.94-2.06-.94 2.06-2.06.94z\"/><path d=\"M17.41 7.96l-1.37-1.37c-.4-.4-.92-.59-1.43-.59-.52 0-1.04.2-1.43.59L10.3 9.45l-7.72 7.72c-.78.78-.78 2.05 0 2.83L4 21.41c.39.39.9.59 1.41.59.51 0 1.02-.2 1.41-.59l7.78-7.78 2.81-2.81c.8-.78.8-2.07 0-2.86zM5.41 20L4 18.59l7.72-7.72 1.47 1.35L5.41 20z\"/>\n",
              "  </svg>\n",
              "      </button>\n",
              "      \n",
              "  <style>\n",
              "    .colab-df-container {\n",
              "      display:flex;\n",
              "      flex-wrap:wrap;\n",
              "      gap: 12px;\n",
              "    }\n",
              "\n",
              "    .colab-df-convert {\n",
              "      background-color: #E8F0FE;\n",
              "      border: none;\n",
              "      border-radius: 50%;\n",
              "      cursor: pointer;\n",
              "      display: none;\n",
              "      fill: #1967D2;\n",
              "      height: 32px;\n",
              "      padding: 0 0 0 0;\n",
              "      width: 32px;\n",
              "    }\n",
              "\n",
              "    .colab-df-convert:hover {\n",
              "      background-color: #E2EBFA;\n",
              "      box-shadow: 0px 1px 2px rgba(60, 64, 67, 0.3), 0px 1px 3px 1px rgba(60, 64, 67, 0.15);\n",
              "      fill: #174EA6;\n",
              "    }\n",
              "\n",
              "    [theme=dark] .colab-df-convert {\n",
              "      background-color: #3B4455;\n",
              "      fill: #D2E3FC;\n",
              "    }\n",
              "\n",
              "    [theme=dark] .colab-df-convert:hover {\n",
              "      background-color: #434B5C;\n",
              "      box-shadow: 0px 1px 3px 1px rgba(0, 0, 0, 0.15);\n",
              "      filter: drop-shadow(0px 1px 2px rgba(0, 0, 0, 0.3));\n",
              "      fill: #FFFFFF;\n",
              "    }\n",
              "  </style>\n",
              "\n",
              "      <script>\n",
              "        const buttonEl =\n",
              "          document.querySelector('#df-7f8d549c-af48-4a1f-9ca9-a18dcd07d298 button.colab-df-convert');\n",
              "        buttonEl.style.display =\n",
              "          google.colab.kernel.accessAllowed ? 'block' : 'none';\n",
              "\n",
              "        async function convertToInteractive(key) {\n",
              "          const element = document.querySelector('#df-7f8d549c-af48-4a1f-9ca9-a18dcd07d298');\n",
              "          const dataTable =\n",
              "            await google.colab.kernel.invokeFunction('convertToInteractive',\n",
              "                                                     [key], {});\n",
              "          if (!dataTable) return;\n",
              "\n",
              "          const docLinkHtml = 'Like what you see? Visit the ' +\n",
              "            '<a target=\"_blank\" href=https://colab.research.google.com/notebooks/data_table.ipynb>data table notebook</a>'\n",
              "            + ' to learn more about interactive tables.';\n",
              "          element.innerHTML = '';\n",
              "          dataTable['output_type'] = 'display_data';\n",
              "          await google.colab.output.renderOutput(dataTable, element);\n",
              "          const docLink = document.createElement('div');\n",
              "          docLink.innerHTML = docLinkHtml;\n",
              "          element.appendChild(docLink);\n",
              "        }\n",
              "      </script>\n",
              "    </div>\n",
              "  </div>\n",
              "  "
            ],
            "text/plain": [
              "              ymdhm  wl_1018662  wl_1018680  wl_1018683  wl_1019630\n",
              "0  2022-06-01 00:00  278.185265  275.156189  275.300903  269.300110\n",
              "1  2022-06-01 00:10  280.708061  274.158112  275.023346  267.299988\n",
              "2  2022-06-01 00:20  283.595112  275.237183  276.068665  264.299744\n",
              "3  2022-06-01 00:30  284.620430  275.886017  275.322937  261.303802\n",
              "4  2022-06-01 00:40  283.623436  275.985291  275.151154  259.300720"
            ]
          },
          "execution_count": 31,
          "metadata": {},
          "output_type": "execute_result"
        }
      ],
      "source": [
        "submission.head()"
      ]
    },
    {
      "cell_type": "code",
      "execution_count": null,
      "metadata": {
        "id": "H7Bi8BGH07Rc"
      },
      "outputs": [],
      "source": [
        "submission.to_csv(DATASET_DIR + \"submission_result.csv\", index = False)"
      ]
    },
    {
      "cell_type": "markdown",
      "metadata": {
        "id": "H-EKZpVKGvRE"
      },
      "source": [
        "## LightGBM"
      ]
    },
    {
      "cell_type": "code",
      "execution_count": null,
      "metadata": {
        "id": "-WRmnuGKKIrx"
      },
      "outputs": [],
      "source": [
        "train_df_target_ = train_df_target['wl_1018662']\n",
        "\n",
        "def lgbm_objective(trial,data=train_df_data,target=train_df_target_):\n",
        "    \n",
        "    train_x, test_x, train_y, test_y = train_test_split(train_df_data, train_df_target_, test_size=0.2,random_state=42)\n",
        "\n",
        "        \n",
        "    param = {'metric': 'rmse', \n",
        "        'random_state': 48,\n",
        "        'n_estimators': trial.suggest_int('n_estimators', 10000, 30000),\n",
        "        'reg_alpha': trial.suggest_loguniform('reg_alpha', 1e-3, 10.0),\n",
        "        'reg_lambda': trial.suggest_loguniform('reg_lambda', 1e-3, 10.0),\n",
        "        'colsample_bytree': trial.suggest_categorical('colsample_bytree', [0.3,0.4,0.5,0.6,0.7,0.8,0.9, 1.0]),\n",
        "        'subsample': trial.suggest_categorical('subsample', [0.4,0.5,0.6,0.7,0.8,1.0]),\n",
        "        'learning_rate': trial.suggest_categorical('learning_rate', [0.006,0.008,0.01,0.014,0.017,0.02, 0.1, 0.04]),\n",
        "        'max_depth': trial.suggest_categorical('max_depth', [10,20,100]),\n",
        "        'num_leaves' : trial.suggest_int('num_leaves', 1, 1000),\n",
        "        'min_child_samples': trial.suggest_int('min_child_samples', 1, 300),\n",
        "        'cat_smooth' : trial.suggest_int('min_data_per_groups', 1, 100),\n",
        "\n",
        "    }\n",
        "    model = lgb.LGBMRegressor(**param)  \n",
        "    \n",
        "    model.fit(train_x,train_y,eval_set=[(test_x,test_y)],early_stopping_rounds=100,verbose=False)\n",
        "    \n",
        "    preds = model.predict(test_x)\n",
        "    \n",
        "    rmse = mean_squared_error(test_y, preds,squared=False)\n",
        "    \n",
        "    return rmse"
      ]
    },
    {
      "cell_type": "code",
      "execution_count": null,
      "metadata": {
        "colab": {
          "base_uri": "https://localhost:8080/"
        },
        "id": "jZLHleHktp7B",
        "outputId": "b8fdb9da-9473-4777-a788-38d4bb9f03ad"
      },
      "outputs": [
        {
          "name": "stderr",
          "output_type": "stream",
          "text": [
            "\u001b[32m[I 2022-08-24 12:53:36,269]\u001b[0m A new study created in memory with name: no-name-5f4c466e-31d2-480a-a23c-00d92a895473\u001b[0m\n",
            "\u001b[32m[I 2022-08-24 12:56:06,423]\u001b[0m Trial 0 finished with value: 0.9313124864540154 and parameters: {'n_estimators': 10655, 'reg_alpha': 0.010769646267341925, 'reg_lambda': 0.024309577015058762, 'colsample_bytree': 0.9, 'subsample': 0.6, 'learning_rate': 0.017, 'max_depth': 10, 'num_leaves': 711, 'min_child_samples': 128, 'min_data_per_groups': 81}. Best is trial 0 with value: 0.9313124864540154.\u001b[0m\n",
            "\u001b[32m[I 2022-08-24 13:10:32,341]\u001b[0m Trial 1 finished with value: 1.1597884640132536 and parameters: {'n_estimators': 15943, 'reg_alpha': 0.22017895282111952, 'reg_lambda': 0.2226826791990071, 'colsample_bytree': 0.5, 'subsample': 0.5, 'learning_rate': 0.04, 'max_depth': 100, 'num_leaves': 255, 'min_child_samples': 258, 'min_data_per_groups': 54}. Best is trial 0 with value: 0.9313124864540154.\u001b[0m\n",
            "\u001b[32m[I 2022-08-24 13:18:51,910]\u001b[0m Trial 2 finished with value: 0.7005781392731621 and parameters: {'n_estimators': 19818, 'reg_alpha': 0.0011959541647536046, 'reg_lambda': 0.026857244823228234, 'colsample_bytree': 0.7, 'subsample': 0.6, 'learning_rate': 0.01, 'max_depth': 10, 'num_leaves': 610, 'min_child_samples': 44, 'min_data_per_groups': 54}. Best is trial 2 with value: 0.7005781392731621.\u001b[0m\n",
            "\u001b[32m[I 2022-08-24 13:22:54,303]\u001b[0m Trial 3 finished with value: 1.0474488373202089 and parameters: {'n_estimators': 18069, 'reg_alpha': 7.756941882887976, 'reg_lambda': 0.6914987091647429, 'colsample_bytree': 0.9, 'subsample': 0.5, 'learning_rate': 0.008, 'max_depth': 10, 'num_leaves': 135, 'min_child_samples': 144, 'min_data_per_groups': 3}. Best is trial 2 with value: 0.7005781392731621.\u001b[0m\n",
            "\u001b[32m[I 2022-08-24 13:38:54,952]\u001b[0m Trial 4 finished with value: 1.5360863053684608 and parameters: {'n_estimators': 11764, 'reg_alpha': 0.08923122339738239, 'reg_lambda': 0.005844029652336529, 'colsample_bytree': 0.4, 'subsample': 0.6, 'learning_rate': 0.014, 'max_depth': 100, 'num_leaves': 922, 'min_child_samples': 257, 'min_data_per_groups': 77}. Best is trial 2 with value: 0.7005781392731621.\u001b[0m\n",
            "\u001b[32m[I 2022-08-24 13:44:09,022]\u001b[0m Trial 5 finished with value: 0.7704528894373244 and parameters: {'n_estimators': 17501, 'reg_alpha': 9.693657331142258, 'reg_lambda': 0.0016633590824284962, 'colsample_bytree': 0.9, 'subsample': 0.6, 'learning_rate': 0.02, 'max_depth': 10, 'num_leaves': 64, 'min_child_samples': 101, 'min_data_per_groups': 91}. Best is trial 2 with value: 0.7005781392731621.\u001b[0m\n",
            "\u001b[32m[I 2022-08-24 13:45:47,698]\u001b[0m Trial 6 finished with value: 0.7248572928347713 and parameters: {'n_estimators': 18955, 'reg_alpha': 0.0018831912223927778, 'reg_lambda': 0.0019553041475267653, 'colsample_bytree': 0.9, 'subsample': 0.5, 'learning_rate': 0.1, 'max_depth': 100, 'num_leaves': 947, 'min_child_samples': 26, 'min_data_per_groups': 60}. Best is trial 2 with value: 0.7005781392731621.\u001b[0m\n",
            "\u001b[32m[I 2022-08-24 13:50:30,673]\u001b[0m Trial 7 finished with value: 0.7023504055816174 and parameters: {'n_estimators': 13215, 'reg_alpha': 0.395008436918827, 'reg_lambda': 7.492402922926298, 'colsample_bytree': 0.8, 'subsample': 0.8, 'learning_rate': 0.02, 'max_depth': 20, 'num_leaves': 618, 'min_child_samples': 19, 'min_data_per_groups': 47}. Best is trial 2 with value: 0.7005781392731621.\u001b[0m\n",
            "\u001b[32m[I 2022-08-24 13:51:56,549]\u001b[0m Trial 8 finished with value: 1.7497053833019314 and parameters: {'n_estimators': 14406, 'reg_alpha': 0.0607180719093305, 'reg_lambda': 0.001106385904343861, 'colsample_bytree': 0.3, 'subsample': 0.5, 'learning_rate': 0.008, 'max_depth': 10, 'num_leaves': 11, 'min_child_samples': 109, 'min_data_per_groups': 32}. Best is trial 2 with value: 0.7005781392731621.\u001b[0m\n",
            "\u001b[32m[I 2022-08-24 13:56:00,700]\u001b[0m Trial 9 finished with value: 0.8609112395689904 and parameters: {'n_estimators': 18351, 'reg_alpha': 0.0068865925511485656, 'reg_lambda': 0.05878213179292728, 'colsample_bytree': 1.0, 'subsample': 0.7, 'learning_rate': 0.014, 'max_depth': 10, 'num_leaves': 462, 'min_child_samples': 109, 'min_data_per_groups': 31}. Best is trial 2 with value: 0.7005781392731621.\u001b[0m\n",
            "\u001b[32m[I 2022-08-24 14:02:30,573]\u001b[0m Trial 10 finished with value: 1.162614240881353 and parameters: {'n_estimators': 15918, 'reg_alpha': 0.002699733454125193, 'reg_lambda': 1.348724716599404, 'colsample_bytree': 0.7, 'subsample': 1.0, 'learning_rate': 0.01, 'max_depth': 20, 'num_leaves': 386, 'min_child_samples': 203, 'min_data_per_groups': 8}. Best is trial 2 with value: 0.7005781392731621.\u001b[0m\n",
            "\u001b[32m[I 2022-08-24 14:12:10,507]\u001b[0m Trial 11 finished with value: 0.6951437191392835 and parameters: {'n_estimators': 13751, 'reg_alpha': 0.7225157041117993, 'reg_lambda': 4.744689357376021, 'colsample_bytree': 0.8, 'subsample': 0.8, 'learning_rate': 0.02, 'max_depth': 20, 'num_leaves': 673, 'min_child_samples': 7, 'min_data_per_groups': 37}. Best is trial 11 with value: 0.6951437191392835.\u001b[0m\n",
            "\u001b[32m[I 2022-08-24 14:21:31,077]\u001b[0m Trial 12 finished with value: 0.796959405729435 and parameters: {'n_estimators': 13385, 'reg_alpha': 1.2451558185481946, 'reg_lambda': 8.921266104053995, 'colsample_bytree': 0.6, 'subsample': 0.8, 'learning_rate': 0.006, 'max_depth': 20, 'num_leaves': 744, 'min_child_samples': 58, 'min_data_per_groups': 35}. Best is trial 11 with value: 0.6951437191392835.\u001b[0m\n",
            "\u001b[32m[I 2022-08-24 14:31:13,737]\u001b[0m Trial 13 finished with value: 0.7693556463747241 and parameters: {'n_estimators': 16446, 'reg_alpha': 1.3366547977251202, 'reg_lambda': 0.011238604553936687, 'colsample_bytree': 0.7, 'subsample': 0.4, 'learning_rate': 0.01, 'max_depth': 20, 'num_leaves': 629, 'min_child_samples': 61, 'min_data_per_groups': 66}. Best is trial 11 with value: 0.6951437191392835.\u001b[0m\n",
            "\u001b[32m[I 2022-08-24 14:42:52,912]\u001b[0m Trial 14 finished with value: 0.6638642865052358 and parameters: {'n_estimators': 14363, 'reg_alpha': 0.03553769768641436, 'reg_lambda': 0.16980737719490768, 'colsample_bytree': 0.8, 'subsample': 0.8, 'learning_rate': 0.02, 'max_depth': 20, 'num_leaves': 805, 'min_child_samples': 13, 'min_data_per_groups': 17}. Best is trial 14 with value: 0.6638642865052358.\u001b[0m\n",
            "\u001b[32m[I 2022-08-24 14:48:13,603]\u001b[0m Trial 15 finished with value: 0.9267265808540677 and parameters: {'n_estimators': 14070, 'reg_alpha': 0.030609319388904394, 'reg_lambda': 1.0320050842726358, 'colsample_bytree': 0.8, 'subsample': 0.8, 'learning_rate': 0.02, 'max_depth': 20, 'num_leaves': 811, 'min_child_samples': 177, 'min_data_per_groups': 18}. Best is trial 14 with value: 0.6638642865052358.\u001b[0m\n",
            "\u001b[32m[I 2022-08-24 14:58:20,636]\u001b[0m Trial 16 finished with value: 0.6811618592790422 and parameters: {'n_estimators': 12275, 'reg_alpha': 0.8490646887043966, 'reg_lambda': 0.22578327859614908, 'colsample_bytree': 0.8, 'subsample': 0.8, 'learning_rate': 0.02, 'max_depth': 20, 'num_leaves': 860, 'min_child_samples': 6, 'min_data_per_groups': 17}. Best is trial 14 with value: 0.6638642865052358.\u001b[0m\n",
            "\u001b[32m[I 2022-08-24 15:06:00,830]\u001b[0m Trial 17 finished with value: 0.7640078305864256 and parameters: {'n_estimators': 11969, 'reg_alpha': 2.904095542946984, 'reg_lambda': 0.1834294258174969, 'colsample_bytree': 0.8, 'subsample': 0.8, 'learning_rate': 0.02, 'max_depth': 20, 'num_leaves': 847, 'min_child_samples': 75, 'min_data_per_groups': 16}. Best is trial 14 with value: 0.6638642865052358.\u001b[0m\n",
            "\u001b[32m[I 2022-08-24 15:10:26,938]\u001b[0m Trial 18 finished with value: 1.050193208471685 and parameters: {'n_estimators': 12148, 'reg_alpha': 0.02535200626342345, 'reg_lambda': 0.4404669804545086, 'colsample_bytree': 0.8, 'subsample': 1.0, 'learning_rate': 0.04, 'max_depth': 20, 'num_leaves': 970, 'min_child_samples': 222, 'min_data_per_groups': 20}. Best is trial 14 with value: 0.6638642865052358.\u001b[0m\n",
            "\u001b[32m[I 2022-08-24 15:16:52,849]\u001b[0m Trial 19 finished with value: 1.1482083194243504 and parameters: {'n_estimators': 10220, 'reg_alpha': 0.3037925286565556, 'reg_lambda': 0.0547748010866385, 'colsample_bytree': 0.3, 'subsample': 0.7, 'learning_rate': 0.017, 'max_depth': 20, 'num_leaves': 499, 'min_child_samples': 5, 'min_data_per_groups': 1}. Best is trial 14 with value: 0.6638642865052358.\u001b[0m\n",
            "\u001b[32m[I 2022-08-24 15:23:35,681]\u001b[0m Trial 20 finished with value: 1.0272890087401778 and parameters: {'n_estimators': 15076, 'reg_alpha': 0.1641491150892532, 'reg_lambda': 2.1863333148529605, 'colsample_bytree': 0.4, 'subsample': 0.4, 'learning_rate': 0.1, 'max_depth': 20, 'num_leaves': 830, 'min_child_samples': 81, 'min_data_per_groups': 24}. Best is trial 14 with value: 0.6638642865052358.\u001b[0m\n",
            "\u001b[32m[I 2022-08-24 15:36:46,022]\u001b[0m Trial 21 finished with value: 0.66261043173222 and parameters: {'n_estimators': 12604, 'reg_alpha': 0.8398112504473182, 'reg_lambda': 2.765346082061197, 'colsample_bytree': 0.8, 'subsample': 0.8, 'learning_rate': 0.02, 'max_depth': 20, 'num_leaves': 725, 'min_child_samples': 3, 'min_data_per_groups': 42}. Best is trial 21 with value: 0.66261043173222.\u001b[0m\n",
            "\u001b[32m[I 2022-08-24 15:42:12,608]\u001b[0m Trial 22 finished with value: 0.6907024443517541 and parameters: {'n_estimators': 12921, 'reg_alpha': 2.716912393396235, 'reg_lambda': 0.2613928054243529, 'colsample_bytree': 0.8, 'subsample': 0.8, 'learning_rate': 0.02, 'max_depth': 20, 'num_leaves': 772, 'min_child_samples': 36, 'min_data_per_groups': 43}. Best is trial 21 with value: 0.66261043173222.\u001b[0m\n",
            "\u001b[32m[I 2022-08-24 15:45:21,133]\u001b[0m Trial 23 finished with value: 0.68204185221082 and parameters: {'n_estimators': 11019, 'reg_alpha': 0.03499999597296311, 'reg_lambda': 2.7832808693999636, 'colsample_bytree': 0.8, 'subsample': 0.8, 'learning_rate': 0.02, 'max_depth': 20, 'num_leaves': 898, 'min_child_samples': 37, 'min_data_per_groups': 10}. Best is trial 21 with value: 0.66261043173222.\u001b[0m\n",
            "\u001b[32m[I 2022-08-24 15:51:18,464]\u001b[0m Trial 24 finished with value: 0.6722905264025182 and parameters: {'n_estimators': 14805, 'reg_alpha': 0.6047430350960132, 'reg_lambda': 0.07899593297823675, 'colsample_bytree': 1.0, 'subsample': 0.8, 'learning_rate': 0.006, 'max_depth': 20, 'num_leaves': 585, 'min_child_samples': 6, 'min_data_per_groups': 26}. Best is trial 21 with value: 0.66261043173222.\u001b[0m\n",
            "\u001b[32m[I 2022-08-24 16:11:54,654]\u001b[0m Trial 25 finished with value: 0.8307200800320893 and parameters: {'n_estimators': 14596, 'reg_alpha': 0.4845897896874309, 'reg_lambda': 0.06988606216592237, 'colsample_bytree': 1.0, 'subsample': 0.8, 'learning_rate': 0.006, 'max_depth': 100, 'num_leaves': 557, 'min_child_samples': 55, 'min_data_per_groups': 28}. Best is trial 21 with value: 0.66261043173222.\u001b[0m\n",
            "\u001b[32m[I 2022-08-24 16:18:05,069]\u001b[0m Trial 26 finished with value: 1.9497147751881714 and parameters: {'n_estimators': 15100, 'reg_alpha': 0.12752872178099142, 'reg_lambda': 0.10187116104494212, 'colsample_bytree': 1.0, 'subsample': 0.8, 'learning_rate': 0.006, 'max_depth': 20, 'num_leaves': 400, 'min_child_samples': 294, 'min_data_per_groups': 39}. Best is trial 21 with value: 0.66261043173222.\u001b[0m\n",
            "\u001b[32m[I 2022-08-24 16:28:56,112]\u001b[0m Trial 27 finished with value: 0.8641757909483417 and parameters: {'n_estimators': 17014, 'reg_alpha': 1.966028106524509, 'reg_lambda': 0.5833073409708187, 'colsample_bytree': 0.5, 'subsample': 0.8, 'learning_rate': 0.006, 'max_depth': 20, 'num_leaves': 544, 'min_child_samples': 88, 'min_data_per_groups': 26}. Best is trial 21 with value: 0.66261043173222.\u001b[0m\n",
            "\u001b[32m[I 2022-08-24 16:43:35,248]\u001b[0m Trial 28 finished with value: 0.736043371651052 and parameters: {'n_estimators': 12766, 'reg_alpha': 0.013234396404189004, 'reg_lambda': 0.026793714249285235, 'colsample_bytree': 0.6, 'subsample': 0.7, 'learning_rate': 0.006, 'max_depth': 20, 'num_leaves': 696, 'min_child_samples': 23, 'min_data_per_groups': 42}. Best is trial 21 with value: 0.66261043173222.\u001b[0m\n",
            "\u001b[32m[I 2022-08-24 16:48:25,773]\u001b[0m Trial 29 finished with value: 0.8968369535274837 and parameters: {'n_estimators': 11253, 'reg_alpha': 4.33426746697392, 'reg_lambda': 0.011953661253008771, 'colsample_bytree': 1.0, 'subsample': 1.0, 'learning_rate': 0.017, 'max_depth': 20, 'num_leaves': 732, 'min_child_samples': 129, 'min_data_per_groups': 70}. Best is trial 21 with value: 0.66261043173222.\u001b[0m\n"
          ]
        },
        {
          "name": "stdout",
          "output_type": "stream",
          "text": [
            "Number of finished trials: 30\n",
            "Best trial: {'n_estimators': 12604, 'reg_alpha': 0.8398112504473182, 'reg_lambda': 2.765346082061197, 'colsample_bytree': 0.8, 'subsample': 0.8, 'learning_rate': 0.02, 'max_depth': 20, 'num_leaves': 725, 'min_child_samples': 3, 'min_data_per_groups': 42}\n"
          ]
        }
      ],
      "source": [
        "study = optuna.create_study(direction='minimize')\n",
        "study.optimize(lgbm_objective, n_trials=30)\n",
        "print('Number of finished trials:', len(study.trials))\n",
        "print('Best trial:', study.best_trial.params)\n",
        "\n",
        "Best_trial=study.best_params   "
      ]
    },
    {
      "cell_type": "code",
      "execution_count": null,
      "metadata": {
        "colab": {
          "base_uri": "https://localhost:8080/"
        },
        "id": "DeuYxAdXKIxV",
        "outputId": "fc9f311c-d80e-4b07-e3c2-81acd91d8721"
      },
      "outputs": [
        {
          "output_type": "stream",
          "name": "stdout",
          "text": [
            "fold: 1 ==> rmse: 0.35903852512883355\n",
            "fold: 2 ==> rmse: 0.31168875400420876\n",
            "fold: 3 ==> rmse: 0.4145570162398571\n",
            "fold: 4 ==> rmse: 0.4535998976687147\n",
            "fold: 5 ==> rmse: 0.34907551208118826\n"
          ]
        }
      ],
      "source": [
        "Best_trial= {'reg_alpha': 0.3591025402196991, \n",
        "             'reg_lambda': 0.0011256946676544382, \n",
        "             'colsample_bytree': 0.8, \n",
        "             'subsample': 0.5, \n",
        "             'learning_rate': 0.006, \n",
        "             'max_depth': 20, \n",
        "             'num_leaves': 457, \n",
        "             'min_child_samples': 3, \n",
        "             'min_data_per_groups': 61}\n",
        "Best_trial['random_state'] = 42\n",
        "Best_trial['n_estimators'] = 20000 \n",
        "Best_trial['metric'] = 'rmse'\n",
        "\n",
        "train_df_target_ = train_df_target['wl_1018662']\n",
        "\n",
        "preds = np.zeros(test_df_data.shape[0])\n",
        "rmse=[]  # list contains rmse for each fold\n",
        "n=0\n",
        "\n",
        "kf = KFold(n_splits=5,random_state=42,shuffle=True)\n",
        "\n",
        "for trn_idx, test_idx in kf.split(train_df_data, train_df_target_) :\n",
        "  \n",
        "  x_train, x_valid = train_df_data.iloc[trn_idx], train_df_data.iloc[test_idx]\n",
        "  y_train, y_valid = train_df_target_.iloc[trn_idx], train_df_target_.iloc[test_idx]\n",
        "  lgb_reg = LGBMRegressor(**Best_trial)\n",
        "\n",
        "  lgb_reg.fit(x_train, y_train, eval_set=[(x_valid, y_valid)], early_stopping_rounds=500, verbose=False)\n",
        "  y_pred = lgb_reg.predict(x_valid)\n",
        "  rm = mean_squared_error(y_valid, y_pred)\n",
        "  rmse.append(rm)\n",
        "\n",
        "  print(f\"fold: {n+1} ==> rmse: {rmse[n]}\")\n",
        "  n = n + 1\n",
        "\n",
        "  test_pred = lgb_reg.predict(test_df_data)\n",
        "  pred = pd.Series(test_pred) \n",
        "  preds += pred / kf.n_splits  \n",
        "\n",
        "submission[\"wl_1018662\"] = preds"
      ]
    },
    {
      "cell_type": "code",
      "execution_count": null,
      "metadata": {
        "colab": {
          "base_uri": "https://localhost:8080/"
        },
        "id": "gNmbEJztzEjo",
        "outputId": "84eb8442-d1b3-4f2c-8cf4-adbf1d04fedf"
      },
      "outputs": [
        {
          "name": "stderr",
          "output_type": "stream",
          "text": [
            "\u001b[32m[I 2022-08-24 16:48:25,936]\u001b[0m A new study created in memory with name: no-name-b6302c25-e25d-4cf1-81fc-79f0ac938d87\u001b[0m\n",
            "\u001b[32m[I 2022-08-24 17:02:58,572]\u001b[0m Trial 0 finished with value: 1.1965564868111547 and parameters: {'n_estimators': 16819, 'reg_alpha': 6.0965958443740815, 'reg_lambda': 0.05678753376588002, 'colsample_bytree': 0.6, 'subsample': 0.6, 'learning_rate': 0.014, 'max_depth': 20, 'num_leaves': 500, 'min_child_samples': 24, 'min_data_per_groups': 11}. Best is trial 0 with value: 1.1965564868111547.\u001b[0m\n",
            "\u001b[32m[I 2022-08-24 17:06:56,751]\u001b[0m Trial 1 finished with value: 1.5024134847111192 and parameters: {'n_estimators': 13403, 'reg_alpha': 0.0012230020337501825, 'reg_lambda': 0.09777523011080132, 'colsample_bytree': 0.3, 'subsample': 0.4, 'learning_rate': 0.008, 'max_depth': 10, 'num_leaves': 715, 'min_child_samples': 152, 'min_data_per_groups': 7}. Best is trial 0 with value: 1.1965564868111547.\u001b[0m\n",
            "\u001b[32m[I 2022-08-24 17:12:23,524]\u001b[0m Trial 2 finished with value: 1.3814958490578253 and parameters: {'n_estimators': 19772, 'reg_alpha': 0.8932477902354137, 'reg_lambda': 0.21310212324744016, 'colsample_bytree': 0.7, 'subsample': 0.5, 'learning_rate': 0.017, 'max_depth': 10, 'num_leaves': 781, 'min_child_samples': 197, 'min_data_per_groups': 55}. Best is trial 0 with value: 1.1965564868111547.\u001b[0m\n",
            "\u001b[32m[I 2022-08-24 17:20:24,356]\u001b[0m Trial 3 finished with value: 1.2256306597819 and parameters: {'n_estimators': 18824, 'reg_alpha': 2.884906662336824, 'reg_lambda': 0.10182806824469684, 'colsample_bytree': 0.8, 'subsample': 1.0, 'learning_rate': 0.014, 'max_depth': 20, 'num_leaves': 113, 'min_child_samples': 113, 'min_data_per_groups': 36}. Best is trial 0 with value: 1.1965564868111547.\u001b[0m\n",
            "\u001b[32m[I 2022-08-24 17:23:49,782]\u001b[0m Trial 4 finished with value: 1.3475171562203057 and parameters: {'n_estimators': 17498, 'reg_alpha': 4.976300632721654, 'reg_lambda': 0.2139675215603748, 'colsample_bytree': 0.5, 'subsample': 1.0, 'learning_rate': 0.1, 'max_depth': 10, 'num_leaves': 785, 'min_child_samples': 28, 'min_data_per_groups': 29}. Best is trial 0 with value: 1.1965564868111547.\u001b[0m\n",
            "\u001b[32m[I 2022-08-24 17:30:47,866]\u001b[0m Trial 5 finished with value: 1.3415232902963075 and parameters: {'n_estimators': 14183, 'reg_alpha': 0.003931290869861593, 'reg_lambda': 0.4381173957816401, 'colsample_bytree': 0.8, 'subsample': 0.6, 'learning_rate': 0.006, 'max_depth': 10, 'num_leaves': 967, 'min_child_samples': 55, 'min_data_per_groups': 34}. Best is trial 0 with value: 1.1965564868111547.\u001b[0m\n",
            "\u001b[32m[I 2022-08-24 17:44:21,276]\u001b[0m Trial 6 finished with value: 1.4715944277101793 and parameters: {'n_estimators': 10508, 'reg_alpha': 0.371616272250686, 'reg_lambda': 1.144217768024045, 'colsample_bytree': 0.9, 'subsample': 0.4, 'learning_rate': 0.04, 'max_depth': 100, 'num_leaves': 268, 'min_child_samples': 291, 'min_data_per_groups': 16}. Best is trial 0 with value: 1.1965564868111547.\u001b[0m\n",
            "\u001b[32m[I 2022-08-24 17:51:45,308]\u001b[0m Trial 7 finished with value: 1.9360603814313166 and parameters: {'n_estimators': 14163, 'reg_alpha': 3.9710650987002376, 'reg_lambda': 0.003369284117810182, 'colsample_bytree': 0.7, 'subsample': 0.8, 'learning_rate': 0.008, 'max_depth': 20, 'num_leaves': 389, 'min_child_samples': 235, 'min_data_per_groups': 39}. Best is trial 0 with value: 1.1965564868111547.\u001b[0m\n",
            "\u001b[32m[I 2022-08-24 17:55:11,046]\u001b[0m Trial 8 finished with value: 1.3548740682192535 and parameters: {'n_estimators': 12160, 'reg_alpha': 3.4819182235062747, 'reg_lambda': 0.0024418601100884146, 'colsample_bytree': 0.5, 'subsample': 0.8, 'learning_rate': 0.1, 'max_depth': 20, 'num_leaves': 793, 'min_child_samples': 54, 'min_data_per_groups': 80}. Best is trial 0 with value: 1.1965564868111547.\u001b[0m\n",
            "\u001b[32m[I 2022-08-24 17:59:58,465]\u001b[0m Trial 9 finished with value: 1.473444907774295 and parameters: {'n_estimators': 15122, 'reg_alpha': 0.004538492801722459, 'reg_lambda': 0.05642138849695446, 'colsample_bytree': 0.3, 'subsample': 0.7, 'learning_rate': 0.006, 'max_depth': 10, 'num_leaves': 135, 'min_child_samples': 106, 'min_data_per_groups': 89}. Best is trial 0 with value: 1.1965564868111547.\u001b[0m\n",
            "\u001b[32m[I 2022-08-24 18:14:20,944]\u001b[0m Trial 10 finished with value: 1.215821317408824 and parameters: {'n_estimators': 16377, 'reg_alpha': 0.07746796188515834, 'reg_lambda': 9.82945668803521, 'colsample_bytree': 0.6, 'subsample': 0.6, 'learning_rate': 0.01, 'max_depth': 100, 'num_leaves': 545, 'min_child_samples': 4, 'min_data_per_groups': 59}. Best is trial 0 with value: 1.1965564868111547.\u001b[0m\n",
            "\u001b[32m[I 2022-08-24 18:28:32,346]\u001b[0m Trial 11 finished with value: 1.2092949359698013 and parameters: {'n_estimators': 16681, 'reg_alpha': 0.07729570354480174, 'reg_lambda': 7.481023583116424, 'colsample_bytree': 0.6, 'subsample': 0.6, 'learning_rate': 0.01, 'max_depth': 100, 'num_leaves': 538, 'min_child_samples': 6, 'min_data_per_groups': 65}. Best is trial 0 with value: 1.1965564868111547.\u001b[0m\n",
            "\u001b[32m[I 2022-08-24 18:46:00,223]\u001b[0m Trial 12 finished with value: 1.2296253748054577 and parameters: {'n_estimators': 16791, 'reg_alpha': 0.058672975201351805, 'reg_lambda': 0.016217439034157805, 'colsample_bytree': 0.6, 'subsample': 0.6, 'learning_rate': 0.02, 'max_depth': 100, 'num_leaves': 539, 'min_child_samples': 80, 'min_data_per_groups': 70}. Best is trial 0 with value: 1.1965564868111547.\u001b[0m\n",
            "\u001b[32m[I 2022-08-24 18:57:26,700]\u001b[0m Trial 13 finished with value: 1.200882483111594 and parameters: {'n_estimators': 17913, 'reg_alpha': 0.022720126365215105, 'reg_lambda': 9.489951422674332, 'colsample_bytree': 0.6, 'subsample': 0.6, 'learning_rate': 0.014, 'max_depth': 100, 'num_leaves': 386, 'min_child_samples': 7, 'min_data_per_groups': 67}. Best is trial 0 with value: 1.1965564868111547.\u001b[0m\n",
            "\u001b[32m[I 2022-08-24 19:05:58,370]\u001b[0m Trial 14 finished with value: 1.291777192595384 and parameters: {'n_estimators': 18104, 'reg_alpha': 0.019711550677000717, 'reg_lambda': 1.512606204624471, 'colsample_bytree': 0.4, 'subsample': 0.6, 'learning_rate': 0.014, 'max_depth': 20, 'num_leaves': 344, 'min_child_samples': 168, 'min_data_per_groups': 96}. Best is trial 0 with value: 1.1965564868111547.\u001b[0m\n",
            "\u001b[32m[I 2022-08-24 19:26:05,277]\u001b[0m Trial 15 finished with value: 1.3609093120951863 and parameters: {'n_estimators': 15719, 'reg_alpha': 0.420410622036759, 'reg_lambda': 0.015152492532192603, 'colsample_bytree': 1.0, 'subsample': 0.7, 'learning_rate': 0.014, 'max_depth': 100, 'num_leaves': 405, 'min_child_samples': 102, 'min_data_per_groups': 1}. Best is trial 0 with value: 1.1965564868111547.\u001b[0m\n",
            "\u001b[32m[I 2022-08-24 19:41:27,892]\u001b[0m Trial 16 finished with value: 1.2087759243231977 and parameters: {'n_estimators': 19894, 'reg_alpha': 0.01756534514216546, 'reg_lambda': 0.011930055256994337, 'colsample_bytree': 0.6, 'subsample': 0.5, 'learning_rate': 0.014, 'max_depth': 20, 'num_leaves': 654, 'min_child_samples': 58, 'min_data_per_groups': 46}. Best is trial 0 with value: 1.1965564868111547.\u001b[0m\n",
            "\u001b[32m[I 2022-08-24 19:49:04,281]\u001b[0m Trial 17 finished with value: 1.1948164872109805 and parameters: {'n_estimators': 18226, 'reg_alpha': 0.016525729212082604, 'reg_lambda': 1.6293583003511867, 'colsample_bytree': 0.6, 'subsample': 0.6, 'learning_rate': 0.014, 'max_depth': 20, 'num_leaves': 216, 'min_child_samples': 29, 'min_data_per_groups': 23}. Best is trial 17 with value: 1.1948164872109805.\u001b[0m\n",
            "\u001b[32m[I 2022-08-24 19:53:36,270]\u001b[0m Trial 18 finished with value: 1.2824363890372172 and parameters: {'n_estimators': 18823, 'reg_alpha': 1.1000938193772432, 'reg_lambda': 2.1888468121422187, 'colsample_bytree': 0.9, 'subsample': 0.6, 'learning_rate': 0.02, 'max_depth': 20, 'num_leaves': 35, 'min_child_samples': 128, 'min_data_per_groups': 21}. Best is trial 17 with value: 1.1948164872109805.\u001b[0m\n",
            "\u001b[32m[I 2022-08-24 20:00:46,163]\u001b[0m Trial 19 finished with value: 1.209043421440567 and parameters: {'n_estimators': 18861, 'reg_alpha': 0.3202889043927625, 'reg_lambda': 0.031163031680284163, 'colsample_bytree': 0.4, 'subsample': 0.6, 'learning_rate': 0.017, 'max_depth': 20, 'num_leaves': 232, 'min_child_samples': 42, 'min_data_per_groups': 16}. Best is trial 17 with value: 1.1948164872109805.\u001b[0m\n",
            "\u001b[32m[I 2022-08-24 20:08:17,953]\u001b[0m Trial 20 finished with value: 1.2628681856038233 and parameters: {'n_estimators': 15771, 'reg_alpha': 0.004336769334975089, 'reg_lambda': 0.613926325753657, 'colsample_bytree': 1.0, 'subsample': 0.5, 'learning_rate': 0.04, 'max_depth': 20, 'num_leaves': 235, 'min_child_samples': 81, 'min_data_per_groups': 27}. Best is trial 17 with value: 1.1948164872109805.\u001b[0m\n",
            "\u001b[32m[I 2022-08-24 20:19:39,997]\u001b[0m Trial 21 finished with value: 1.198722368532004 and parameters: {'n_estimators': 17790, 'reg_alpha': 0.03258242690840813, 'reg_lambda': 4.28795477248879, 'colsample_bytree': 0.6, 'subsample': 0.6, 'learning_rate': 0.014, 'max_depth': 100, 'num_leaves': 411, 'min_child_samples': 24, 'min_data_per_groups': 47}. Best is trial 17 with value: 1.1948164872109805.\u001b[0m\n",
            "\u001b[32m[I 2022-08-24 20:32:30,885]\u001b[0m Trial 22 finished with value: 1.2095010361995067 and parameters: {'n_estimators': 17354, 'reg_alpha': 0.010093484741352783, 'reg_lambda': 2.586411864291366, 'colsample_bytree': 0.6, 'subsample': 0.6, 'learning_rate': 0.014, 'max_depth': 20, 'num_leaves': 491, 'min_child_samples': 32, 'min_data_per_groups': 45}. Best is trial 17 with value: 1.1948164872109805.\u001b[0m\n",
            "\u001b[32m[I 2022-08-24 20:49:49,455]\u001b[0m Trial 23 finished with value: 1.198566281106684 and parameters: {'n_estimators': 18042, 'reg_alpha': 9.096367684020732, 'reg_lambda': 3.0737164904725573, 'colsample_bytree': 0.6, 'subsample': 0.6, 'learning_rate': 0.014, 'max_depth': 20, 'num_leaves': 633, 'min_child_samples': 74, 'min_data_per_groups': 8}. Best is trial 17 with value: 1.1948164872109805.\u001b[0m\n",
            "\u001b[32m[I 2022-08-24 21:07:37,177]\u001b[0m Trial 24 finished with value: 1.2163796773541746 and parameters: {'n_estimators': 18766, 'reg_alpha': 8.951505530299832, 'reg_lambda': 0.7560114129749382, 'colsample_bytree': 0.6, 'subsample': 0.6, 'learning_rate': 0.014, 'max_depth': 20, 'num_leaves': 651, 'min_child_samples': 81, 'min_data_per_groups': 8}. Best is trial 17 with value: 1.1948164872109805.\u001b[0m\n",
            "\u001b[32m[I 2022-08-24 21:22:10,587]\u001b[0m Trial 25 finished with value: 1.2187632778652777 and parameters: {'n_estimators': 15877, 'reg_alpha': 2.130159713528403, 'reg_lambda': 0.0010440400082887592, 'colsample_bytree': 0.6, 'subsample': 1.0, 'learning_rate': 0.014, 'max_depth': 20, 'num_leaves': 964, 'min_child_samples': 70, 'min_data_per_groups': 2}. Best is trial 17 with value: 1.1948164872109805.\u001b[0m\n",
            "\u001b[32m[I 2022-08-24 21:33:54,195]\u001b[0m Trial 26 finished with value: 1.1941453931744057 and parameters: {'n_estimators': 16868, 'reg_alpha': 0.1473031414007589, 'reg_lambda': 0.2887570829726337, 'colsample_bytree': 0.6, 'subsample': 0.8, 'learning_rate': 0.014, 'max_depth': 20, 'num_leaves': 468, 'min_child_samples': 28, 'min_data_per_groups': 16}. Best is trial 26 with value: 1.1941453931744057.\u001b[0m\n",
            "\u001b[32m[I 2022-08-24 21:42:58,376]\u001b[0m Trial 27 finished with value: 1.1877924644241993 and parameters: {'n_estimators': 16983, 'reg_alpha': 0.17841397534157916, 'reg_lambda': 0.27238400675450836, 'colsample_bytree': 0.6, 'subsample': 0.8, 'learning_rate': 0.014, 'max_depth': 20, 'num_leaves': 319, 'min_child_samples': 31, 'min_data_per_groups': 18}. Best is trial 27 with value: 1.1877924644241993.\u001b[0m\n",
            "\u001b[32m[I 2022-08-24 21:49:27,783]\u001b[0m Trial 28 finished with value: 1.3436292619698216 and parameters: {'n_estimators': 14839, 'reg_alpha': 0.19698253027562165, 'reg_lambda': 0.2578811058503261, 'colsample_bytree': 0.4, 'subsample': 0.8, 'learning_rate': 0.017, 'max_depth': 20, 'num_leaves': 314, 'min_child_samples': 197, 'min_data_per_groups': 24}. Best is trial 27 with value: 1.1877924644241993.\u001b[0m\n",
            "\u001b[32m[I 2022-08-24 21:55:25,930]\u001b[0m Trial 29 finished with value: 1.1922998820055217 and parameters: {'n_estimators': 17220, 'reg_alpha': 0.12684647874157715, 'reg_lambda': 0.3840556042174671, 'colsample_bytree': 0.6, 'subsample': 0.8, 'learning_rate': 0.014, 'max_depth': 20, 'num_leaves': 169, 'min_child_samples': 22, 'min_data_per_groups': 17}. Best is trial 27 with value: 1.1877924644241993.\u001b[0m\n"
          ]
        },
        {
          "name": "stdout",
          "output_type": "stream",
          "text": [
            "Number of finished trials: 30\n",
            "Best trial: {'n_estimators': 16983, 'reg_alpha': 0.17841397534157916, 'reg_lambda': 0.27238400675450836, 'colsample_bytree': 0.6, 'subsample': 0.8, 'learning_rate': 0.014, 'max_depth': 20, 'num_leaves': 319, 'min_child_samples': 31, 'min_data_per_groups': 18}\n"
          ]
        }
      ],
      "source": [
        "train_df_target_ = train_df_target['wl_1018680']\n",
        "\n",
        "study = optuna.create_study(direction='minimize')\n",
        "study.optimize(lgbm_objective, n_trials=30)\n",
        "print('Number of finished trials:', len(study.trials))\n",
        "print('Best trial:', study.best_trial.params)\n"
      ]
    },
    {
      "cell_type": "code",
      "execution_count": null,
      "metadata": {
        "colab": {
          "base_uri": "https://localhost:8080/"
        },
        "id": "JaDUdriJKI0x",
        "outputId": "d354ebfb-c3e5-400e-d1da-1cfe87d01054"
      },
      "outputs": [
        {
          "output_type": "stream",
          "name": "stdout",
          "text": [
            "fold: 1 ==> rmse: 1.7128472046572556\n",
            "fold: 2 ==> rmse: 1.6574624170324197\n",
            "fold: 3 ==> rmse: 1.592455854869122\n",
            "fold: 4 ==> rmse: 1.6065752071240285\n",
            "fold: 5 ==> rmse: 1.6278157999554188\n"
          ]
        }
      ],
      "source": [
        "Best_trial= {'reg_alpha': 0.8647279319336788, 'reg_lambda': 0.003599928189509784, 'colsample_bytree': 0.5, 'subsample': 1.0, 'learning_rate': 0.014, 'max_depth': 20, 'num_leaves': 613, 'min_child_samples': 60, 'min_data_per_groups': 57}\n",
        "Best_trial['random_state'] = 42\n",
        "Best_trial['n_estimators'] = 20000 \n",
        "Best_trial['metric'] = 'rmse'\n",
        "#Best_trial = {'n_estimators': 16983, 'reg_alpha': 0.17841397534157916, 'reg_lambda': 0.27238400675450836, 'colsample_bytree': 0.6, 'subsample': 0.8, 'learning_rate': 0.014, 'max_depth': 20, 'num_leaves': 319, 'min_child_samples': 31, 'min_data_per_groups': 18}\n",
        "\n",
        "\n",
        "train_df_target_ = train_df_target['wl_1018680']\n",
        "\n",
        "preds = np.zeros(test_df_data.shape[0])\n",
        "rmse=[]  # list contains rmse for each fold\n",
        "n=0\n",
        "\n",
        "kf = KFold(n_splits=5,random_state=42,shuffle=True)\n",
        "\n",
        "for trn_idx, test_idx in kf.split(train_df_data, train_df_target_) :\n",
        "  \n",
        "  x_train, x_valid = train_df_data.iloc[trn_idx], train_df_data.iloc[test_idx]\n",
        "  y_train, y_valid = train_df_target_.iloc[trn_idx], train_df_target_.iloc[test_idx]\n",
        "  lgb_reg = LGBMRegressor(**Best_trial)\n",
        "\n",
        "  lgb_reg.fit(x_train, y_train, eval_set=[(x_valid, y_valid)], early_stopping_rounds=500, verbose=False)\n",
        "  y_pred = lgb_reg.predict(x_valid)\n",
        "  rm = mean_squared_error(y_valid, y_pred)\n",
        "  rmse.append(rm)\n",
        "\n",
        "  print(f\"fold: {n+1} ==> rmse: {rmse[n]}\")\n",
        "  n = n + 1\n",
        "\n",
        "  test_pred = lgb_reg.predict(test_df_data)\n",
        "  pred = pd.Series(test_pred) \n",
        "  preds += pred / kf.n_splits  \n",
        "\n",
        "submission[\"wl_1018680\"] = preds"
      ]
    },
    {
      "cell_type": "code",
      "execution_count": null,
      "metadata": {
        "colab": {
          "base_uri": "https://localhost:8080/"
        },
        "id": "ufMpkxZ1zJG7",
        "outputId": "ae2a12f8-2200-4fe2-8f04-31d2a8274e1c"
      },
      "outputs": [
        {
          "name": "stderr",
          "output_type": "stream",
          "text": [
            "\u001b[32m[I 2022-08-25 09:03:47,610]\u001b[0m A new study created in memory with name: no-name-01b1c6bf-0490-48ab-b520-3465d2f635e5\u001b[0m\n",
            "\u001b[32m[I 2022-08-25 09:49:42,644]\u001b[0m Trial 0 finished with value: 1.2281299841123026 and parameters: {'n_estimators': 27907, 'reg_alpha': 0.008927864990340937, 'reg_lambda': 0.6661904652831122, 'colsample_bytree': 0.3, 'subsample': 0.5, 'learning_rate': 0.014, 'max_depth': 100, 'num_leaves': 226, 'min_child_samples': 173, 'min_data_per_groups': 4}. Best is trial 0 with value: 1.2281299841123026.\u001b[0m\n",
            "\u001b[32m[I 2022-08-25 09:54:48,099]\u001b[0m Trial 1 finished with value: 1.206827157743298 and parameters: {'n_estimators': 10328, 'reg_alpha': 0.3066606426315761, 'reg_lambda': 0.2081860960248243, 'colsample_bytree': 0.5, 'subsample': 0.4, 'learning_rate': 0.04, 'max_depth': 10, 'num_leaves': 63, 'min_child_samples': 81, 'min_data_per_groups': 81}. Best is trial 1 with value: 1.206827157743298.\u001b[0m\n",
            "\u001b[32m[I 2022-08-25 10:08:14,093]\u001b[0m Trial 2 finished with value: 1.2707294792908732 and parameters: {'n_estimators': 14772, 'reg_alpha': 0.7008798817693109, 'reg_lambda': 0.03485038933698783, 'colsample_bytree': 0.5, 'subsample': 0.4, 'learning_rate': 0.1, 'max_depth': 20, 'num_leaves': 308, 'min_child_samples': 82, 'min_data_per_groups': 65}. Best is trial 1 with value: 1.206827157743298.\u001b[0m\n"
          ]
        }
      ],
      "source": [
        "train_df_target_ = train_df_target['wl_1018683']\n",
        "\n",
        "study = optuna.create_study(direction='minimize')\n",
        "study.optimize(lgbm_objective, n_trials=30)\n",
        "print('Number of finished trials:', len(study.trials))\n",
        "print('Best trial:', study.best_trial.params)"
      ]
    },
    {
      "cell_type": "code",
      "execution_count": null,
      "metadata": {
        "id": "nAyGycThKI8P",
        "colab": {
          "base_uri": "https://localhost:8080/"
        },
        "outputId": "fd839a9e-6c8f-4c8a-c93e-a1ae884231b9"
      },
      "outputs": [
        {
          "output_type": "stream",
          "name": "stdout",
          "text": [
            "fold: 1 ==> rmse: 1.5167838663924404\n",
            "fold: 2 ==> rmse: 1.4436932520655537\n",
            "fold: 3 ==> rmse: 1.4385459165898262\n",
            "fold: 4 ==> rmse: 1.4214133350108087\n",
            "fold: 5 ==> rmse: 1.4175483678259586\n"
          ]
        }
      ],
      "source": [
        "Best_trial= {'reg_alpha': 0.001022942957732116, 'reg_lambda': 0.3081563349887192, 'colsample_bytree': 0.7, 'subsample': 0.4, 'learning_rate': 0.017, 'max_depth': 100, 'num_leaves': 460, 'min_child_samples': 63, 'min_data_per_groups': 23}\n",
        "Best_trial['random_state'] = 42\n",
        "Best_trial['n_estimators'] = 20000 \n",
        "Best_trial['metric'] = 'rmse'\n",
        "\n",
        "train_df_target_ = train_df_target['wl_1018683']\n",
        "\n",
        "preds = np.zeros(test_df_data.shape[0])\n",
        "rmse=[]  # list contains rmse for each fold\n",
        "n=0\n",
        "\n",
        "kf = KFold(n_splits=5,random_state=42,shuffle=True)\n",
        "\n",
        "for trn_idx, test_idx in kf.split(train_df_data, train_df_target_) :\n",
        "  \n",
        "  x_train, x_valid = train_df_data.iloc[trn_idx], train_df_data.iloc[test_idx]\n",
        "  y_train, y_valid = train_df_target_.iloc[trn_idx], train_df_target_.iloc[test_idx]\n",
        "  lgb_reg = LGBMRegressor(**Best_trial)\n",
        "\n",
        "  lgb_reg.fit(x_train, y_train, eval_set=[(x_valid, y_valid)], early_stopping_rounds=500, verbose=False)\n",
        "  y_pred = lgb_reg.predict(x_valid)\n",
        "  rm = mean_squared_error(y_valid, y_pred)\n",
        "  rmse.append(rm)\n",
        "\n",
        "  print(f\"fold: {n+1} ==> rmse: {rmse[n]}\")\n",
        "  n = n + 1\n",
        "\n",
        "  test_pred = lgb_reg.predict(test_df_data)\n",
        "  pred = pd.Series(test_pred) \n",
        "  preds += pred / kf.n_splits  \n",
        "\n",
        "submission[\"wl_1018683\"] = preds"
      ]
    },
    {
      "cell_type": "code",
      "execution_count": null,
      "metadata": {
        "id": "9VlOR6hhzKrG"
      },
      "outputs": [],
      "source": [
        "train_df_target_ = train_df_target['wl_1019630']\n",
        "\n",
        "study = optuna.create_study(direction='minimize')\n",
        "study.optimize(lgbm_objective, n_trials=30)\n",
        "print('Number of finished trials:', len(study.trials))\n",
        "print('Best trial:', study.best_trial.params)"
      ]
    },
    {
      "cell_type": "code",
      "execution_count": null,
      "metadata": {
        "id": "FSxExKtIKI-W",
        "colab": {
          "base_uri": "https://localhost:8080/"
        },
        "outputId": "218c5606-654b-4cbc-a718-0d736284ca89"
      },
      "outputs": [
        {
          "output_type": "stream",
          "name": "stdout",
          "text": [
            "fold: 1 ==> rmse: 0.054927483038731746\n",
            "fold: 2 ==> rmse: 0.0543083888382177\n",
            "fold: 3 ==> rmse: 0.06074204131810595\n",
            "fold: 4 ==> rmse: 0.04977687981209676\n",
            "fold: 5 ==> rmse: 0.06570028236826174\n"
          ]
        }
      ],
      "source": [
        "Best_trial = {'reg_alpha': 0.037607612377358206, \n",
        "              'reg_lambda': 0.00520001801934155, \n",
        "              'colsample_bytree': 1.0, \n",
        "              'subsample': 0.5, \n",
        "              'learning_rate': 0.017, \n",
        "              'max_depth': 100, \n",
        "              'num_leaves': 817, \n",
        "              'min_child_samples': 1, \n",
        "              'min_data_per_groups': 17}\n",
        "Best_trial['random_state'] = 42\n",
        "Best_trial['n_estimators'] = 20000 \n",
        "Best_trial['metric'] = 'rmse'\n",
        "\n",
        "train_df_target_ = train_df_target['wl_1019630']\n",
        "\n",
        "preds = np.zeros(test_df_data.shape[0])\n",
        "rmse=[]  # list contains rmse for each fold\n",
        "n=0\n",
        "\n",
        "for trn_idx, test_idx in kf.split(train_df_data, train_df_target_) :\n",
        "  \n",
        "  x_train, x_valid = train_df_data.iloc[trn_idx], train_df_data.iloc[test_idx]\n",
        "  y_train, y_valid = train_df_target_.iloc[trn_idx], train_df_target_.iloc[test_idx]\n",
        "  lgb_reg = LGBMRegressor(**Best_trial)\n",
        "\n",
        "  lgb_reg.fit(x_train, y_train, eval_set=[(x_valid, y_valid)], early_stopping_rounds=500, verbose=False)\n",
        "  y_pred = lgb_reg.predict(x_valid)\n",
        "  rm = mean_squared_error(y_valid, y_pred)\n",
        "  rmse.append(rm)\n",
        "\n",
        "  print(f\"fold: {n+1} ==> rmse: {rmse[n]}\")\n",
        "  n = n + 1\n",
        "\n",
        "  test_pred = lgb_reg.predict(test_df_data)\n",
        "  pred = pd.Series(test_pred) \n",
        "  preds += pred / kf.n_splits  \n",
        "\n",
        "submission[\"wl_1019630\"] = preds"
      ]
    },
    {
      "cell_type": "code",
      "execution_count": null,
      "metadata": {
        "id": "MIDjdqaqKJAt",
        "colab": {
          "base_uri": "https://localhost:8080/",
          "height": 206
        },
        "outputId": "489c1b51-4c2b-4ff8-8485-b92dcc7ebd6c"
      },
      "outputs": [
        {
          "output_type": "execute_result",
          "data": {
            "text/plain": [
              "              ymdhm  wl_1018662  wl_1018680  wl_1018683  wl_1019630\n",
              "0  2022-06-01 00:00  278.708901  273.520954  274.502609  269.299983\n",
              "1  2022-06-01 00:10  280.640909  272.818543  273.776786  267.299981\n",
              "2  2022-06-01 00:20  283.622387  273.920555  274.673145  264.299982\n",
              "3  2022-06-01 00:30  284.638311  274.923024  275.030555  261.299984\n",
              "4  2022-06-01 00:40  283.662576  274.778455  274.706468  259.299987"
            ],
            "text/html": [
              "\n",
              "  <div id=\"df-430e4166-6d33-4728-8507-81de5c4db168\">\n",
              "    <div class=\"colab-df-container\">\n",
              "      <div>\n",
              "<style scoped>\n",
              "    .dataframe tbody tr th:only-of-type {\n",
              "        vertical-align: middle;\n",
              "    }\n",
              "\n",
              "    .dataframe tbody tr th {\n",
              "        vertical-align: top;\n",
              "    }\n",
              "\n",
              "    .dataframe thead th {\n",
              "        text-align: right;\n",
              "    }\n",
              "</style>\n",
              "<table border=\"1\" class=\"dataframe\">\n",
              "  <thead>\n",
              "    <tr style=\"text-align: right;\">\n",
              "      <th></th>\n",
              "      <th>ymdhm</th>\n",
              "      <th>wl_1018662</th>\n",
              "      <th>wl_1018680</th>\n",
              "      <th>wl_1018683</th>\n",
              "      <th>wl_1019630</th>\n",
              "    </tr>\n",
              "  </thead>\n",
              "  <tbody>\n",
              "    <tr>\n",
              "      <th>0</th>\n",
              "      <td>2022-06-01 00:00</td>\n",
              "      <td>278.708901</td>\n",
              "      <td>273.520954</td>\n",
              "      <td>274.502609</td>\n",
              "      <td>269.299983</td>\n",
              "    </tr>\n",
              "    <tr>\n",
              "      <th>1</th>\n",
              "      <td>2022-06-01 00:10</td>\n",
              "      <td>280.640909</td>\n",
              "      <td>272.818543</td>\n",
              "      <td>273.776786</td>\n",
              "      <td>267.299981</td>\n",
              "    </tr>\n",
              "    <tr>\n",
              "      <th>2</th>\n",
              "      <td>2022-06-01 00:20</td>\n",
              "      <td>283.622387</td>\n",
              "      <td>273.920555</td>\n",
              "      <td>274.673145</td>\n",
              "      <td>264.299982</td>\n",
              "    </tr>\n",
              "    <tr>\n",
              "      <th>3</th>\n",
              "      <td>2022-06-01 00:30</td>\n",
              "      <td>284.638311</td>\n",
              "      <td>274.923024</td>\n",
              "      <td>275.030555</td>\n",
              "      <td>261.299984</td>\n",
              "    </tr>\n",
              "    <tr>\n",
              "      <th>4</th>\n",
              "      <td>2022-06-01 00:40</td>\n",
              "      <td>283.662576</td>\n",
              "      <td>274.778455</td>\n",
              "      <td>274.706468</td>\n",
              "      <td>259.299987</td>\n",
              "    </tr>\n",
              "  </tbody>\n",
              "</table>\n",
              "</div>\n",
              "      <button class=\"colab-df-convert\" onclick=\"convertToInteractive('df-430e4166-6d33-4728-8507-81de5c4db168')\"\n",
              "              title=\"Convert this dataframe to an interactive table.\"\n",
              "              style=\"display:none;\">\n",
              "        \n",
              "  <svg xmlns=\"http://www.w3.org/2000/svg\" height=\"24px\"viewBox=\"0 0 24 24\"\n",
              "       width=\"24px\">\n",
              "    <path d=\"M0 0h24v24H0V0z\" fill=\"none\"/>\n",
              "    <path d=\"M18.56 5.44l.94 2.06.94-2.06 2.06-.94-2.06-.94-.94-2.06-.94 2.06-2.06.94zm-11 1L8.5 8.5l.94-2.06 2.06-.94-2.06-.94L8.5 2.5l-.94 2.06-2.06.94zm10 10l.94 2.06.94-2.06 2.06-.94-2.06-.94-.94-2.06-.94 2.06-2.06.94z\"/><path d=\"M17.41 7.96l-1.37-1.37c-.4-.4-.92-.59-1.43-.59-.52 0-1.04.2-1.43.59L10.3 9.45l-7.72 7.72c-.78.78-.78 2.05 0 2.83L4 21.41c.39.39.9.59 1.41.59.51 0 1.02-.2 1.41-.59l7.78-7.78 2.81-2.81c.8-.78.8-2.07 0-2.86zM5.41 20L4 18.59l7.72-7.72 1.47 1.35L5.41 20z\"/>\n",
              "  </svg>\n",
              "      </button>\n",
              "      \n",
              "  <style>\n",
              "    .colab-df-container {\n",
              "      display:flex;\n",
              "      flex-wrap:wrap;\n",
              "      gap: 12px;\n",
              "    }\n",
              "\n",
              "    .colab-df-convert {\n",
              "      background-color: #E8F0FE;\n",
              "      border: none;\n",
              "      border-radius: 50%;\n",
              "      cursor: pointer;\n",
              "      display: none;\n",
              "      fill: #1967D2;\n",
              "      height: 32px;\n",
              "      padding: 0 0 0 0;\n",
              "      width: 32px;\n",
              "    }\n",
              "\n",
              "    .colab-df-convert:hover {\n",
              "      background-color: #E2EBFA;\n",
              "      box-shadow: 0px 1px 2px rgba(60, 64, 67, 0.3), 0px 1px 3px 1px rgba(60, 64, 67, 0.15);\n",
              "      fill: #174EA6;\n",
              "    }\n",
              "\n",
              "    [theme=dark] .colab-df-convert {\n",
              "      background-color: #3B4455;\n",
              "      fill: #D2E3FC;\n",
              "    }\n",
              "\n",
              "    [theme=dark] .colab-df-convert:hover {\n",
              "      background-color: #434B5C;\n",
              "      box-shadow: 0px 1px 3px 1px rgba(0, 0, 0, 0.15);\n",
              "      filter: drop-shadow(0px 1px 2px rgba(0, 0, 0, 0.3));\n",
              "      fill: #FFFFFF;\n",
              "    }\n",
              "  </style>\n",
              "\n",
              "      <script>\n",
              "        const buttonEl =\n",
              "          document.querySelector('#df-430e4166-6d33-4728-8507-81de5c4db168 button.colab-df-convert');\n",
              "        buttonEl.style.display =\n",
              "          google.colab.kernel.accessAllowed ? 'block' : 'none';\n",
              "\n",
              "        async function convertToInteractive(key) {\n",
              "          const element = document.querySelector('#df-430e4166-6d33-4728-8507-81de5c4db168');\n",
              "          const dataTable =\n",
              "            await google.colab.kernel.invokeFunction('convertToInteractive',\n",
              "                                                     [key], {});\n",
              "          if (!dataTable) return;\n",
              "\n",
              "          const docLinkHtml = 'Like what you see? Visit the ' +\n",
              "            '<a target=\"_blank\" href=https://colab.research.google.com/notebooks/data_table.ipynb>data table notebook</a>'\n",
              "            + ' to learn more about interactive tables.';\n",
              "          element.innerHTML = '';\n",
              "          dataTable['output_type'] = 'display_data';\n",
              "          await google.colab.output.renderOutput(dataTable, element);\n",
              "          const docLink = document.createElement('div');\n",
              "          docLink.innerHTML = docLinkHtml;\n",
              "          element.appendChild(docLink);\n",
              "        }\n",
              "      </script>\n",
              "    </div>\n",
              "  </div>\n",
              "  "
            ]
          },
          "metadata": {},
          "execution_count": 35
        }
      ],
      "source": [
        "submission.to_csv(DATASET_DIR + \"submission_result_lgb.csv\", index = False)\n",
        "submission.head()"
      ]
    },
    {
      "cell_type": "markdown",
      "source": [
        "## RandomForest"
      ],
      "metadata": {
        "id": "TpG_CQm8C-mb"
      }
    },
    {
      "cell_type": "code",
      "source": [
        "train_df_target_ = train_df_target['wl_1018662']\n",
        "\n",
        "Best_trial =  {'n_estimators': 200, 'n_jobs' : -1}\n",
        "\n",
        "preds = np.zeros(test_df_data.shape[0])\n",
        "rmse=[]  # list contains rmse for each fold\n",
        "n=0\n",
        "\n",
        "kf = KFold(n_splits=5,random_state=42,shuffle=True)\n",
        "\n",
        "for trn_idx, test_idx in kf.split(train_df_data, train_df_target_) :\n",
        "  \n",
        "  x_train, x_valid = train_df_data.iloc[trn_idx], train_df_data.iloc[test_idx]\n",
        "  y_train, y_valid = train_df_target_.iloc[trn_idx], train_df_target_.iloc[test_idx]\n",
        "  rfl_reg = RandomForestRegressor(random_state=42, **Best_trial)\n",
        "\n",
        "  rfl_reg.fit(x_train, y_train)\n",
        "  y_pred = rfl_reg.predict(x_valid)\n",
        "  rm = mean_squared_error(y_valid, y_pred)\n",
        "  rmse.append(rm)\n",
        "\n",
        "  print(f\"fold: {n+1} ==> rmse: {rmse[n]}\")\n",
        "  n = n + 1\n",
        "\n",
        "  test_pred = rfl_reg.predict(test_df_data)\n",
        "  pred = pd.Series(test_pred) \n",
        "  preds += pred / kf.n_splits  \n",
        "\n",
        "submission[\"wl_1018662\"] = preds"
      ],
      "metadata": {
        "id": "WQ5fh6A0AFiY",
        "colab": {
          "base_uri": "https://localhost:8080/"
        },
        "outputId": "62d490d3-ed5f-4d82-f59f-8b25bdf18221"
      },
      "execution_count": null,
      "outputs": [
        {
          "output_type": "stream",
          "name": "stdout",
          "text": [
            "fold: 1 ==> rmse: 0.2188863386990576\n",
            "fold: 2 ==> rmse: 0.16386143837821388\n",
            "fold: 3 ==> rmse: 0.1972100079740089\n",
            "fold: 4 ==> rmse: 0.16256672321047236\n",
            "fold: 5 ==> rmse: 0.1978760638680052\n"
          ]
        }
      ]
    },
    {
      "cell_type": "code",
      "source": [
        "train_df_target_ = train_df_target['wl_1018680']\n",
        "\n",
        "Best_trial =  {'n_estimators': 100, 'n_jobs' : -1}\n",
        "\n",
        "preds = np.zeros(test_df_data.shape[0])\n",
        "rmse=[]  # list contains rmse for each fold\n",
        "n=0\n",
        "\n",
        "kf = KFold(n_splits=5,random_state=42,shuffle=True)\n",
        "\n",
        "for trn_idx, test_idx in kf.split(train_df_data, train_df_target_) :\n",
        "  \n",
        "  x_train, x_valid = train_df_data.iloc[trn_idx], train_df_data.iloc[test_idx]\n",
        "  y_train, y_valid = train_df_target_.iloc[trn_idx], train_df_target_.iloc[test_idx]\n",
        "  rfl_reg = RandomForestRegressor(**Best_trial)\n",
        "\n",
        "  rfl_reg.fit(x_train, y_train)\n",
        "  y_pred = rfl_reg.predict(x_valid)\n",
        "  rm = mean_squared_error(y_valid, y_pred)\n",
        "  rmse.append(rm)\n",
        "\n",
        "  print(f\"fold: {n+1} ==> rmse: {rmse[n]}\")\n",
        "  n = n + 1\n",
        "\n",
        "  test_pred = rfl_reg.predict(test_df_data)\n",
        "  pred = pd.Series(test_pred) \n",
        "  preds += pred / kf.n_splits  \n",
        "\n",
        "submission[\"wl_1018680\"] = preds"
      ],
      "metadata": {
        "id": "T2-ip4hmAFdO",
        "colab": {
          "base_uri": "https://localhost:8080/"
        },
        "outputId": "a636925b-5abb-4c15-8dad-d4e758aac04b"
      },
      "execution_count": null,
      "outputs": [
        {
          "output_type": "stream",
          "name": "stdout",
          "text": [
            "fold: 1 ==> rmse: 3.587730053160666\n",
            "fold: 2 ==> rmse: 3.8088382349555236\n",
            "fold: 3 ==> rmse: 3.713515400422404\n",
            "fold: 4 ==> rmse: 3.737569299310722\n",
            "fold: 5 ==> rmse: 3.8539904356693504\n"
          ]
        }
      ]
    },
    {
      "cell_type": "code",
      "source": [
        "train_df_target_ = train_df_target['wl_1018683']\n",
        "\n",
        "Best_trial =  {'n_estimators': 100, 'n_jobs' : -1}\n",
        "\n",
        "preds = np.zeros(test_df_data.shape[0])\n",
        "rmse=[]  # list contains rmse for each fold\n",
        "n=0\n",
        "\n",
        "kf = KFold(n_splits=5,random_state=42,shuffle=True)\n",
        "\n",
        "for trn_idx, test_idx in kf.split(train_df_data, train_df_target_) :\n",
        "  \n",
        "  x_train, x_valid = train_df_data.iloc[trn_idx], train_df_data.iloc[test_idx]\n",
        "  y_train, y_valid = train_df_target_.iloc[trn_idx], train_df_target_.iloc[test_idx]\n",
        "  rfl_reg = RandomForestRegressor(**Best_trial)\n",
        "\n",
        "  rfl_reg.fit(x_train, y_train)\n",
        "  y_pred = rfl_reg.predict(x_valid)\n",
        "  rm = mean_squared_error(y_valid, y_pred)\n",
        "  rmse.append(rm)\n",
        "\n",
        "  print(f\"fold: {n+1} ==> rmse: {rmse[n]}\")\n",
        "  n = n + 1\n",
        "\n",
        "  test_pred = rfl_reg.predict(test_df_data)\n",
        "  pred = pd.Series(test_pred) \n",
        "  preds += pred / kf.n_splits  \n",
        "\n",
        "submission[\"wl_1018683\"] = preds"
      ],
      "metadata": {
        "id": "tDYTpxSBAFai",
        "colab": {
          "base_uri": "https://localhost:8080/"
        },
        "outputId": "2bddba4c-90d0-4635-980c-d4325f431233"
      },
      "execution_count": null,
      "outputs": [
        {
          "output_type": "stream",
          "name": "stdout",
          "text": [
            "fold: 1 ==> rmse: 3.0289069152303316\n",
            "fold: 2 ==> rmse: 3.0813509046768\n",
            "fold: 3 ==> rmse: 3.019978356078357\n",
            "fold: 4 ==> rmse: 3.145976116007003\n",
            "fold: 5 ==> rmse: 3.160719805714781\n"
          ]
        }
      ]
    },
    {
      "cell_type": "code",
      "source": [
        "train_df_target_ = train_df_target['wl_1019630']\n",
        "\n",
        "Best_trial =  {'n_estimators': 200, 'n_jobs' : -1}\n",
        "\n",
        "preds = np.zeros(test_df_data.shape[0])\n",
        "rmse=[]  # list contains rmse for each fold\n",
        "n=0\n",
        "\n",
        "kf = KFold(n_splits=5,random_state=42,shuffle=True)\n",
        "\n",
        "\n",
        "for trn_idx, test_idx in kf.split(train_df_data, train_df_target_) :\n",
        "  \n",
        "  x_train, x_valid = train_df_data.iloc[trn_idx], train_df_data.iloc[test_idx]\n",
        "  y_train, y_valid = train_df_target_.iloc[trn_idx], train_df_target_.iloc[test_idx]\n",
        "  rfl_reg = RandomForestRegressor(**Best_trial)\n",
        "\n",
        "  rfl_reg.fit(x_train, y_train)\n",
        "  y_pred = rfl_reg.predict(x_valid)\n",
        "  rm = mean_squared_error(y_valid, y_pred)\n",
        "  rmse.append(rm)\n",
        "\n",
        "  print(f\"fold: {n+1} ==> rmse: {rmse[n]}\")\n",
        "  n = n + 1\n",
        "\n",
        "  test_pred = rfl_reg.predict(test_df_data)\n",
        "  pred = pd.Series(test_pred) \n",
        "  preds += pred / kf.n_splits  \n",
        "\n",
        "submission[\"wl_1019630\"] = preds"
      ],
      "metadata": {
        "id": "mowUMSoYAFXv",
        "colab": {
          "base_uri": "https://localhost:8080/"
        },
        "outputId": "9d1978c8-fa69-4a28-cf95-23e969bddc7b"
      },
      "execution_count": null,
      "outputs": [
        {
          "output_type": "stream",
          "name": "stdout",
          "text": [
            "fold: 1 ==> rmse: 0.011162148906818615\n",
            "fold: 2 ==> rmse: 0.007379110788955381\n",
            "fold: 3 ==> rmse: 0.008051275251937549\n",
            "fold: 4 ==> rmse: 0.005854068497399799\n",
            "fold: 5 ==> rmse: 0.013694818944506542\n"
          ]
        }
      ]
    },
    {
      "cell_type": "code",
      "source": [
        "submission.to_csv(DATASET_DIR + \"submission_result_rfl.csv\", index = False)\n",
        "submission.head()"
      ],
      "metadata": {
        "id": "HhOaQbQ-AFVC",
        "colab": {
          "base_uri": "https://localhost:8080/",
          "height": 206
        },
        "outputId": "904ccded-5b12-454c-fb75-1b5feb4784a4"
      },
      "execution_count": null,
      "outputs": [
        {
          "output_type": "execute_result",
          "data": {
            "text/plain": [
              "              ymdhm  wl_1018662  wl_1018680  wl_1018683  wl_1019630\n",
              "0  2022-06-01 00:00       278.7     276.774     274.580       269.3\n",
              "1  2022-06-01 00:10       280.7     277.424     274.956       267.3\n",
              "2  2022-06-01 00:20       283.7     277.258     275.052       264.3\n",
              "3  2022-06-01 00:30       284.7     277.970     275.258       261.3\n",
              "4  2022-06-01 00:40       283.7     277.902     274.532       259.3"
            ],
            "text/html": [
              "\n",
              "  <div id=\"df-e0d493ba-c6a3-4581-9513-a1659b40b2d9\">\n",
              "    <div class=\"colab-df-container\">\n",
              "      <div>\n",
              "<style scoped>\n",
              "    .dataframe tbody tr th:only-of-type {\n",
              "        vertical-align: middle;\n",
              "    }\n",
              "\n",
              "    .dataframe tbody tr th {\n",
              "        vertical-align: top;\n",
              "    }\n",
              "\n",
              "    .dataframe thead th {\n",
              "        text-align: right;\n",
              "    }\n",
              "</style>\n",
              "<table border=\"1\" class=\"dataframe\">\n",
              "  <thead>\n",
              "    <tr style=\"text-align: right;\">\n",
              "      <th></th>\n",
              "      <th>ymdhm</th>\n",
              "      <th>wl_1018662</th>\n",
              "      <th>wl_1018680</th>\n",
              "      <th>wl_1018683</th>\n",
              "      <th>wl_1019630</th>\n",
              "    </tr>\n",
              "  </thead>\n",
              "  <tbody>\n",
              "    <tr>\n",
              "      <th>0</th>\n",
              "      <td>2022-06-01 00:00</td>\n",
              "      <td>278.7</td>\n",
              "      <td>276.774</td>\n",
              "      <td>274.580</td>\n",
              "      <td>269.3</td>\n",
              "    </tr>\n",
              "    <tr>\n",
              "      <th>1</th>\n",
              "      <td>2022-06-01 00:10</td>\n",
              "      <td>280.7</td>\n",
              "      <td>277.424</td>\n",
              "      <td>274.956</td>\n",
              "      <td>267.3</td>\n",
              "    </tr>\n",
              "    <tr>\n",
              "      <th>2</th>\n",
              "      <td>2022-06-01 00:20</td>\n",
              "      <td>283.7</td>\n",
              "      <td>277.258</td>\n",
              "      <td>275.052</td>\n",
              "      <td>264.3</td>\n",
              "    </tr>\n",
              "    <tr>\n",
              "      <th>3</th>\n",
              "      <td>2022-06-01 00:30</td>\n",
              "      <td>284.7</td>\n",
              "      <td>277.970</td>\n",
              "      <td>275.258</td>\n",
              "      <td>261.3</td>\n",
              "    </tr>\n",
              "    <tr>\n",
              "      <th>4</th>\n",
              "      <td>2022-06-01 00:40</td>\n",
              "      <td>283.7</td>\n",
              "      <td>277.902</td>\n",
              "      <td>274.532</td>\n",
              "      <td>259.3</td>\n",
              "    </tr>\n",
              "  </tbody>\n",
              "</table>\n",
              "</div>\n",
              "      <button class=\"colab-df-convert\" onclick=\"convertToInteractive('df-e0d493ba-c6a3-4581-9513-a1659b40b2d9')\"\n",
              "              title=\"Convert this dataframe to an interactive table.\"\n",
              "              style=\"display:none;\">\n",
              "        \n",
              "  <svg xmlns=\"http://www.w3.org/2000/svg\" height=\"24px\"viewBox=\"0 0 24 24\"\n",
              "       width=\"24px\">\n",
              "    <path d=\"M0 0h24v24H0V0z\" fill=\"none\"/>\n",
              "    <path d=\"M18.56 5.44l.94 2.06.94-2.06 2.06-.94-2.06-.94-.94-2.06-.94 2.06-2.06.94zm-11 1L8.5 8.5l.94-2.06 2.06-.94-2.06-.94L8.5 2.5l-.94 2.06-2.06.94zm10 10l.94 2.06.94-2.06 2.06-.94-2.06-.94-.94-2.06-.94 2.06-2.06.94z\"/><path d=\"M17.41 7.96l-1.37-1.37c-.4-.4-.92-.59-1.43-.59-.52 0-1.04.2-1.43.59L10.3 9.45l-7.72 7.72c-.78.78-.78 2.05 0 2.83L4 21.41c.39.39.9.59 1.41.59.51 0 1.02-.2 1.41-.59l7.78-7.78 2.81-2.81c.8-.78.8-2.07 0-2.86zM5.41 20L4 18.59l7.72-7.72 1.47 1.35L5.41 20z\"/>\n",
              "  </svg>\n",
              "      </button>\n",
              "      \n",
              "  <style>\n",
              "    .colab-df-container {\n",
              "      display:flex;\n",
              "      flex-wrap:wrap;\n",
              "      gap: 12px;\n",
              "    }\n",
              "\n",
              "    .colab-df-convert {\n",
              "      background-color: #E8F0FE;\n",
              "      border: none;\n",
              "      border-radius: 50%;\n",
              "      cursor: pointer;\n",
              "      display: none;\n",
              "      fill: #1967D2;\n",
              "      height: 32px;\n",
              "      padding: 0 0 0 0;\n",
              "      width: 32px;\n",
              "    }\n",
              "\n",
              "    .colab-df-convert:hover {\n",
              "      background-color: #E2EBFA;\n",
              "      box-shadow: 0px 1px 2px rgba(60, 64, 67, 0.3), 0px 1px 3px 1px rgba(60, 64, 67, 0.15);\n",
              "      fill: #174EA6;\n",
              "    }\n",
              "\n",
              "    [theme=dark] .colab-df-convert {\n",
              "      background-color: #3B4455;\n",
              "      fill: #D2E3FC;\n",
              "    }\n",
              "\n",
              "    [theme=dark] .colab-df-convert:hover {\n",
              "      background-color: #434B5C;\n",
              "      box-shadow: 0px 1px 3px 1px rgba(0, 0, 0, 0.15);\n",
              "      filter: drop-shadow(0px 1px 2px rgba(0, 0, 0, 0.3));\n",
              "      fill: #FFFFFF;\n",
              "    }\n",
              "  </style>\n",
              "\n",
              "      <script>\n",
              "        const buttonEl =\n",
              "          document.querySelector('#df-e0d493ba-c6a3-4581-9513-a1659b40b2d9 button.colab-df-convert');\n",
              "        buttonEl.style.display =\n",
              "          google.colab.kernel.accessAllowed ? 'block' : 'none';\n",
              "\n",
              "        async function convertToInteractive(key) {\n",
              "          const element = document.querySelector('#df-e0d493ba-c6a3-4581-9513-a1659b40b2d9');\n",
              "          const dataTable =\n",
              "            await google.colab.kernel.invokeFunction('convertToInteractive',\n",
              "                                                     [key], {});\n",
              "          if (!dataTable) return;\n",
              "\n",
              "          const docLinkHtml = 'Like what you see? Visit the ' +\n",
              "            '<a target=\"_blank\" href=https://colab.research.google.com/notebooks/data_table.ipynb>data table notebook</a>'\n",
              "            + ' to learn more about interactive tables.';\n",
              "          element.innerHTML = '';\n",
              "          dataTable['output_type'] = 'display_data';\n",
              "          await google.colab.output.renderOutput(dataTable, element);\n",
              "          const docLink = document.createElement('div');\n",
              "          docLink.innerHTML = docLinkHtml;\n",
              "          element.appendChild(docLink);\n",
              "        }\n",
              "      </script>\n",
              "    </div>\n",
              "  </div>\n",
              "  "
            ]
          },
          "metadata": {},
          "execution_count": 30
        }
      ]
    },
    {
      "cell_type": "code",
      "source": [
        "xgb = pd.read_csv(DATASET_DIR + \"submission_result.csv\")\n",
        "lgb = pd.read_csv(DATASET_DIR + \"submission_result_lgb.csv\")\n",
        "rf = pd.read_csv(DATASET_DIR + \"submission_result_rfl.csv\")\n",
        "\n",
        "submission['wl_1018662'] = xgb['wl_1018662'] * 0.0 + lgb['wl_1018662'] * 0.2 + rf['wl_1018662'] * 0.8\n",
        "submission['wl_1018680'] = xgb['wl_1018680'] * 0.4 + lgb['wl_1018680'] * 0.6 + rf['wl_1018680'] * 0.0\n",
        "submission['wl_1018683'] = xgb['wl_1018683'] * 0.4 + lgb['wl_1018683'] * 0.6 + rf['wl_1018683'] * 0.0\n",
        "submission['wl_1019630'] = xgb['wl_1019630'] * 0.0 + lgb['wl_1019630'] * 0.1 + rf['wl_1019630'] * 0.9\n",
        "submission = np.round(submission, 2)\n",
        "submission.to_csv(DATASET_DIR + \"submission_result_lgb_xgb_rf.csv\", index = False)\n",
        "submission.head() # 2.8472450992"
      ],
      "metadata": {
        "id": "0hAd9ahKAFPt",
        "colab": {
          "base_uri": "https://localhost:8080/",
          "height": 206
        },
        "outputId": "2ff9f818-98b7-4943-9509-aa7b95894325"
      },
      "execution_count": null,
      "outputs": [
        {
          "output_type": "execute_result",
          "data": {
            "text/plain": [
              "              ymdhm  wl_1018662  wl_1018680  wl_1018683  wl_1019630\n",
              "0  2022-06-01 00:00      278.70      274.18      274.82       269.3\n",
              "1  2022-06-01 00:10      280.69      273.35      274.28       267.3\n",
              "2  2022-06-01 00:20      283.68      274.45      275.23       264.3\n",
              "3  2022-06-01 00:30      284.69      275.31      275.15       261.3\n",
              "4  2022-06-01 00:40      283.69      275.26      274.88       259.3"
            ],
            "text/html": [
              "\n",
              "  <div id=\"df-1720f39d-ee71-4697-b714-8fc883645e0a\">\n",
              "    <div class=\"colab-df-container\">\n",
              "      <div>\n",
              "<style scoped>\n",
              "    .dataframe tbody tr th:only-of-type {\n",
              "        vertical-align: middle;\n",
              "    }\n",
              "\n",
              "    .dataframe tbody tr th {\n",
              "        vertical-align: top;\n",
              "    }\n",
              "\n",
              "    .dataframe thead th {\n",
              "        text-align: right;\n",
              "    }\n",
              "</style>\n",
              "<table border=\"1\" class=\"dataframe\">\n",
              "  <thead>\n",
              "    <tr style=\"text-align: right;\">\n",
              "      <th></th>\n",
              "      <th>ymdhm</th>\n",
              "      <th>wl_1018662</th>\n",
              "      <th>wl_1018680</th>\n",
              "      <th>wl_1018683</th>\n",
              "      <th>wl_1019630</th>\n",
              "    </tr>\n",
              "  </thead>\n",
              "  <tbody>\n",
              "    <tr>\n",
              "      <th>0</th>\n",
              "      <td>2022-06-01 00:00</td>\n",
              "      <td>278.70</td>\n",
              "      <td>274.18</td>\n",
              "      <td>274.82</td>\n",
              "      <td>269.3</td>\n",
              "    </tr>\n",
              "    <tr>\n",
              "      <th>1</th>\n",
              "      <td>2022-06-01 00:10</td>\n",
              "      <td>280.69</td>\n",
              "      <td>273.35</td>\n",
              "      <td>274.28</td>\n",
              "      <td>267.3</td>\n",
              "    </tr>\n",
              "    <tr>\n",
              "      <th>2</th>\n",
              "      <td>2022-06-01 00:20</td>\n",
              "      <td>283.68</td>\n",
              "      <td>274.45</td>\n",
              "      <td>275.23</td>\n",
              "      <td>264.3</td>\n",
              "    </tr>\n",
              "    <tr>\n",
              "      <th>3</th>\n",
              "      <td>2022-06-01 00:30</td>\n",
              "      <td>284.69</td>\n",
              "      <td>275.31</td>\n",
              "      <td>275.15</td>\n",
              "      <td>261.3</td>\n",
              "    </tr>\n",
              "    <tr>\n",
              "      <th>4</th>\n",
              "      <td>2022-06-01 00:40</td>\n",
              "      <td>283.69</td>\n",
              "      <td>275.26</td>\n",
              "      <td>274.88</td>\n",
              "      <td>259.3</td>\n",
              "    </tr>\n",
              "  </tbody>\n",
              "</table>\n",
              "</div>\n",
              "      <button class=\"colab-df-convert\" onclick=\"convertToInteractive('df-1720f39d-ee71-4697-b714-8fc883645e0a')\"\n",
              "              title=\"Convert this dataframe to an interactive table.\"\n",
              "              style=\"display:none;\">\n",
              "        \n",
              "  <svg xmlns=\"http://www.w3.org/2000/svg\" height=\"24px\"viewBox=\"0 0 24 24\"\n",
              "       width=\"24px\">\n",
              "    <path d=\"M0 0h24v24H0V0z\" fill=\"none\"/>\n",
              "    <path d=\"M18.56 5.44l.94 2.06.94-2.06 2.06-.94-2.06-.94-.94-2.06-.94 2.06-2.06.94zm-11 1L8.5 8.5l.94-2.06 2.06-.94-2.06-.94L8.5 2.5l-.94 2.06-2.06.94zm10 10l.94 2.06.94-2.06 2.06-.94-2.06-.94-.94-2.06-.94 2.06-2.06.94z\"/><path d=\"M17.41 7.96l-1.37-1.37c-.4-.4-.92-.59-1.43-.59-.52 0-1.04.2-1.43.59L10.3 9.45l-7.72 7.72c-.78.78-.78 2.05 0 2.83L4 21.41c.39.39.9.59 1.41.59.51 0 1.02-.2 1.41-.59l7.78-7.78 2.81-2.81c.8-.78.8-2.07 0-2.86zM5.41 20L4 18.59l7.72-7.72 1.47 1.35L5.41 20z\"/>\n",
              "  </svg>\n",
              "      </button>\n",
              "      \n",
              "  <style>\n",
              "    .colab-df-container {\n",
              "      display:flex;\n",
              "      flex-wrap:wrap;\n",
              "      gap: 12px;\n",
              "    }\n",
              "\n",
              "    .colab-df-convert {\n",
              "      background-color: #E8F0FE;\n",
              "      border: none;\n",
              "      border-radius: 50%;\n",
              "      cursor: pointer;\n",
              "      display: none;\n",
              "      fill: #1967D2;\n",
              "      height: 32px;\n",
              "      padding: 0 0 0 0;\n",
              "      width: 32px;\n",
              "    }\n",
              "\n",
              "    .colab-df-convert:hover {\n",
              "      background-color: #E2EBFA;\n",
              "      box-shadow: 0px 1px 2px rgba(60, 64, 67, 0.3), 0px 1px 3px 1px rgba(60, 64, 67, 0.15);\n",
              "      fill: #174EA6;\n",
              "    }\n",
              "\n",
              "    [theme=dark] .colab-df-convert {\n",
              "      background-color: #3B4455;\n",
              "      fill: #D2E3FC;\n",
              "    }\n",
              "\n",
              "    [theme=dark] .colab-df-convert:hover {\n",
              "      background-color: #434B5C;\n",
              "      box-shadow: 0px 1px 3px 1px rgba(0, 0, 0, 0.15);\n",
              "      filter: drop-shadow(0px 1px 2px rgba(0, 0, 0, 0.3));\n",
              "      fill: #FFFFFF;\n",
              "    }\n",
              "  </style>\n",
              "\n",
              "      <script>\n",
              "        const buttonEl =\n",
              "          document.querySelector('#df-1720f39d-ee71-4697-b714-8fc883645e0a button.colab-df-convert');\n",
              "        buttonEl.style.display =\n",
              "          google.colab.kernel.accessAllowed ? 'block' : 'none';\n",
              "\n",
              "        async function convertToInteractive(key) {\n",
              "          const element = document.querySelector('#df-1720f39d-ee71-4697-b714-8fc883645e0a');\n",
              "          const dataTable =\n",
              "            await google.colab.kernel.invokeFunction('convertToInteractive',\n",
              "                                                     [key], {});\n",
              "          if (!dataTable) return;\n",
              "\n",
              "          const docLinkHtml = 'Like what you see? Visit the ' +\n",
              "            '<a target=\"_blank\" href=https://colab.research.google.com/notebooks/data_table.ipynb>data table notebook</a>'\n",
              "            + ' to learn more about interactive tables.';\n",
              "          element.innerHTML = '';\n",
              "          dataTable['output_type'] = 'display_data';\n",
              "          await google.colab.output.renderOutput(dataTable, element);\n",
              "          const docLink = document.createElement('div');\n",
              "          docLink.innerHTML = docLinkHtml;\n",
              "          element.appendChild(docLink);\n",
              "        }\n",
              "      </script>\n",
              "    </div>\n",
              "  </div>\n",
              "  "
            ]
          },
          "metadata": {},
          "execution_count": 29
        }
      ]
    },
    {
      "cell_type": "code",
      "source": [],
      "metadata": {
        "id": "cwh5pdxh4nb3"
      },
      "execution_count": null,
      "outputs": []
    }
  ],
  "metadata": {
    "accelerator": "GPU",
    "colab": {
      "collapsed_sections": [],
      "machine_shape": "hm",
      "provenance": []
    },
    "gpuClass": "standard",
    "kernelspec": {
      "display_name": "Python 3",
      "name": "python3"
    },
    "language_info": {
      "name": "python"
    }
  },
  "nbformat": 4,
  "nbformat_minor": 0
}